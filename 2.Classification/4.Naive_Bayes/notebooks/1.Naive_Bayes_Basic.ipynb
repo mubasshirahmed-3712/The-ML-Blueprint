{
 "cells": [
  {
   "cell_type": "markdown",
   "id": "5252827b",
   "metadata": {},
   "source": [
    "# Naive Bayes Classifier Tutorial with Python\n",
    "\n",
    "Hello friends,\n",
    "\n",
    "**Naive Bayes** is a family of supervised machine learning algorithms based on Bayes’ Theorem.  \n",
    "It is called \"Naive\" because it assumes that the features are independent of each other,  \n",
    "which is often not true in real-world data, but still works surprisingly well.\n",
    "\n",
    "---\n",
    "\n",
    "## Types of Naive Bayes Classifiers\n",
    "1. **Gaussian Naive Bayes** – Assumes features follow a normal (Gaussian) distribution. Best for continuous data (like Age, Salary).  \n",
    "2. **Multinomial Naive Bayes** – Works well with count data or text classification (like word frequencies).  \n",
    "3. **Bernoulli Naive Bayes** – Assumes binary features (0/1). Useful for yes/no features.\n",
    "\n",
    "---\n",
    "\n",
    "## Real-world Applications\n",
    "- Spam email detection  \n",
    "- Sentiment analysis  \n",
    "- Document/text classification  \n",
    "- Medical diagnosis  \n"
   ]
  },
  {
   "cell_type": "code",
   "execution_count": 4,
   "id": "1a8bd09c",
   "metadata": {},
   "outputs": [],
   "source": [
    "# Importing the libraries\n",
    "import numpy as np\n",
    "import matplotlib.pyplot as plt\n",
    "import pandas as pd\n",
    "\n",
    "# Importing dataset utilities\n",
    "from sklearn.model_selection import train_test_split\n",
    "from sklearn.metrics import confusion_matrix, accuracy_score\n",
    "from sklearn.preprocessing import StandardScaler\n",
    "\n",
    "# Import Naive Bayes models\n",
    "from sklearn.naive_bayes import GaussianNB, MultinomialNB, BernoulliNB\n"
   ]
  },
  {
   "cell_type": "code",
   "execution_count": 5,
   "id": "d747089f",
   "metadata": {},
   "outputs": [],
   "source": [
    "# Importing the dataset\n",
    "dataset = pd.read_csv(\"../data/logistic_classification.csv\")\n",
    "X = dataset.iloc[:, [2, 3]].values   # Age & Estimated Salary\n",
    "y = dataset.iloc[:, -1].values       # Purchased (0 or 1)\n",
    "\n",
    "# Splitting the dataset into Training and Test sets\n",
    "X_train, X_test, y_train, y_test = train_test_split(\n",
    "    X, y, test_size=0.20, random_state=0\n",
    ")\n",
    "\n",
    "# Feature Scaling (important for Gaussian NB, optional for others)\n",
    "sc = StandardScaler()\n",
    "X_train = sc.fit_transform(X_train)\n",
    "X_test = sc.transform(X_test)\n"
   ]
  },
  {
   "cell_type": "code",
   "execution_count": 6,
   "id": "e452c4eb",
   "metadata": {},
   "outputs": [],
   "source": [
    "# Training Naive Bayes Models\n",
    "\n",
    "# Gaussian Naive Bayes\n",
    "gnb = GaussianNB()\n",
    "gnb.fit(X_train, y_train)\n",
    "y_pred_gnb = gnb.predict(X_test)\n",
    "\n",
    "# # Multinomial Naive Bayes\n",
    "# mnb = MultinomialNB()\n",
    "# mnb.fit(X_train, y_train)\n",
    "# y_pred_mnb = mnb.predict(X_test)\n",
    "\n",
    "# Bernoulli Naive Bayes\n",
    "bnb = BernoulliNB()\n",
    "bnb.fit(X_train, y_train)\n",
    "y_pred_bnb = bnb.predict(X_test)\n"
   ]
  },
  {
   "cell_type": "code",
   "execution_count": 8,
   "id": "fa4470f0",
   "metadata": {},
   "outputs": [
    {
     "name": "stdout",
     "output_type": "stream",
     "text": [
      "Model: GaussianNB\n",
      "Confusion Matrix:\n",
      " [[55  3]\n",
      " [ 4 18]]\n",
      "Accuracy: 0.9125\n",
      "----------------------------------------\n",
      "Model: BernoulliNB\n",
      "Confusion Matrix:\n",
      " [[55  3]\n",
      " [11 11]]\n",
      "Accuracy: 0.825\n",
      "----------------------------------------\n",
      "Summary of Accuracies:\n",
      "GaussianNB Accuracy: 0.9125\n",
      "BernoulliNB Accuracy: 0.825\n"
     ]
    }
   ],
   "source": [
    "# Evaluation of models\n",
    "\n",
    "def evaluate_model(name, y_true, y_pred):\n",
    "    cm = confusion_matrix(y_true, y_pred)\n",
    "    acc = accuracy_score(y_true, y_pred)\n",
    "    print(f\"Model: {name}\")\n",
    "    print(\"Confusion Matrix:\\n\", cm)\n",
    "    print(\"Accuracy:\", acc)\n",
    "    print(\"-\"*40)\n",
    "    return acc\n",
    "\n",
    "acc_gnb = evaluate_model(\"GaussianNB\", y_test, y_pred_gnb)\n",
    "# acc_mnb = evaluate_model(\"MultinomialNB\", y_test, y_pred_mnb)\n",
    "acc_bnb = evaluate_model(\"BernoulliNB\", y_test, y_pred_bnb)\n",
    "\n",
    "print(\"Summary of Accuracies:\")\n",
    "print(\"GaussianNB Accuracy:\", acc_gnb)\n",
    "# print(\"MultinomialNB Accuracy:\", acc_mnb)\n",
    "print(\"BernoulliNB Accuracy:\", acc_bnb)\n"
   ]
  },
  {
   "cell_type": "markdown",
   "id": "aa440876",
   "metadata": {},
   "source": [
    "# Summary & Key Takeaways\n",
    "\n",
    "- **GaussianNB** usually works best for continuous features like Age and Salary.  \n",
    "- **MultinomialNB** is more suited to discrete counts (e.g., text word counts).  \n",
    "- **BernoulliNB** is effective when features are binary (yes/no).  \n",
    "\n",
    "In this dataset, **GaussianNB is expected to perform better**.  \n",
    "Naive Bayes is a simple, fast, and surprisingly effective algorithm for many classification problems.  \n"
   ]
  }
 ],
 "metadata": {
  "kernelspec": {
   "display_name": "base",
   "language": "python",
   "name": "python3"
  },
  "language_info": {
   "codemirror_mode": {
    "name": "ipython",
    "version": 3
   },
   "file_extension": ".py",
   "mimetype": "text/x-python",
   "name": "python",
   "nbconvert_exporter": "python",
   "pygments_lexer": "ipython3",
   "version": "3.12.7"
  }
 },
 "nbformat": 4,
 "nbformat_minor": 5
}
