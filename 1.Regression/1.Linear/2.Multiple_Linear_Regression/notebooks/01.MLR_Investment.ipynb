{
 "cells": [
  {
   "cell_type": "markdown",
   "id": "f1dcacc9",
   "metadata": {},
   "source": [
    "<h2 style=\"text-align:center;\">📊 Multiple Linear Regression (MLR) - Investment Dataset</h2>\n",
    "\n",
    "This notebook demonstrates **Multiple Linear Regression (MLR)** using the **Investment dataset**.  \n",
    "We will go through the following steps:\n",
    "\n",
    "1. Import required libraries  \n",
    "2. Load and explore the dataset  \n",
    "3. Prepare independent (X) and dependent (y) variables \n",
    "4. Encoding categorical variables   \n",
    "5. Train-Test Split  \n",
    "6. Train the Multiple Linear Regression model  \n",
    "7. Evaluate model performance  \n",
    "8. Perform **Backward Elimination** (feature selection using p-values)  \n",
    "\n",
    "---\n"
   ]
  },
  {
   "cell_type": "markdown",
   "id": "a8b1fa9b",
   "metadata": {},
   "source": [
    "<h2 style=\"text-align:center;\">📦 Step 1: Import Required Libraries</h2>\n",
    "\n",
    "We first import the libraries needed for:\n",
    "- **Data Handling** → NumPy, Pandas  \n",
    "- **Machine Learning** → scikit-learn (LinearRegression, train_test_split)  \n",
    "- **Statistical Analysis** → statsmodels (for backward elimination)  \n"
   ]
  },
  {
   "cell_type": "code",
   "execution_count": 14,
   "id": "0b5bef8c",
   "metadata": {},
   "outputs": [],
   "source": [
    "# ------------------------------\n",
    "# Import necessary libraries\n",
    "# ------------------------------\n",
    "\n",
    "import numpy as np\n",
    "import pandas as pd\n",
    "import matplotlib.pyplot as plt\n",
    "%matplotlib inline\n",
    "import warnings\n",
    "warnings.filterwarnings(\"ignore\")\n",
    "import pickle\n",
    "import os\n",
    "\n",
    "\n",
    "# For train-test split and regression\n",
    "from sklearn.model_selection import train_test_split\n",
    "from sklearn.linear_model import LinearRegression\n",
    "\n",
    "# For backward elimination\n",
    "import statsmodels.api as sm\n"
   ]
  },
  {
   "cell_type": "markdown",
   "id": "b40f92f1",
   "metadata": {},
   "source": [
    "<h2 style=\"text-align:center;\">📂 Step 2: Load & Explore the Dataset</h2>\n",
    "\n",
    "We will:\n",
    "1. Load the **Investment dataset** (CSV file).  \n",
    "2. Display the first few rows.  \n",
    "3. Check dataset information (columns, datatypes, nulls).  \n",
    "4. Get statistical summary to understand data distribution.  \n"
   ]
  },
  {
   "cell_type": "code",
   "execution_count": 2,
   "id": "93adfda2",
   "metadata": {},
   "outputs": [
    {
     "name": "stdout",
     "output_type": "stream",
     "text": [
      "🔹 First 5 rows of dataset:\n"
     ]
    },
    {
     "data": {
      "text/html": [
       "<div>\n",
       "<style scoped>\n",
       "    .dataframe tbody tr th:only-of-type {\n",
       "        vertical-align: middle;\n",
       "    }\n",
       "\n",
       "    .dataframe tbody tr th {\n",
       "        vertical-align: top;\n",
       "    }\n",
       "\n",
       "    .dataframe thead th {\n",
       "        text-align: right;\n",
       "    }\n",
       "</style>\n",
       "<table border=\"1\" class=\"dataframe\">\n",
       "  <thead>\n",
       "    <tr style=\"text-align: right;\">\n",
       "      <th></th>\n",
       "      <th>DigitalMarketing</th>\n",
       "      <th>Promotion</th>\n",
       "      <th>Research</th>\n",
       "      <th>State</th>\n",
       "      <th>Profit</th>\n",
       "    </tr>\n",
       "  </thead>\n",
       "  <tbody>\n",
       "    <tr>\n",
       "      <th>0</th>\n",
       "      <td>165349.20</td>\n",
       "      <td>136897.80</td>\n",
       "      <td>471784.10</td>\n",
       "      <td>Hyderabad</td>\n",
       "      <td>192261.83</td>\n",
       "    </tr>\n",
       "    <tr>\n",
       "      <th>1</th>\n",
       "      <td>162597.70</td>\n",
       "      <td>151377.59</td>\n",
       "      <td>443898.53</td>\n",
       "      <td>Bangalore</td>\n",
       "      <td>191792.06</td>\n",
       "    </tr>\n",
       "    <tr>\n",
       "      <th>2</th>\n",
       "      <td>153441.51</td>\n",
       "      <td>101145.55</td>\n",
       "      <td>407934.54</td>\n",
       "      <td>Chennai</td>\n",
       "      <td>191050.39</td>\n",
       "    </tr>\n",
       "    <tr>\n",
       "      <th>3</th>\n",
       "      <td>144372.41</td>\n",
       "      <td>118671.85</td>\n",
       "      <td>383199.62</td>\n",
       "      <td>Hyderabad</td>\n",
       "      <td>182901.99</td>\n",
       "    </tr>\n",
       "    <tr>\n",
       "      <th>4</th>\n",
       "      <td>142107.34</td>\n",
       "      <td>91391.77</td>\n",
       "      <td>366168.42</td>\n",
       "      <td>Chennai</td>\n",
       "      <td>166187.94</td>\n",
       "    </tr>\n",
       "  </tbody>\n",
       "</table>\n",
       "</div>"
      ],
      "text/plain": [
       "   DigitalMarketing  Promotion   Research      State     Profit\n",
       "0         165349.20  136897.80  471784.10  Hyderabad  192261.83\n",
       "1         162597.70  151377.59  443898.53  Bangalore  191792.06\n",
       "2         153441.51  101145.55  407934.54    Chennai  191050.39\n",
       "3         144372.41  118671.85  383199.62  Hyderabad  182901.99\n",
       "4         142107.34   91391.77  366168.42    Chennai  166187.94"
      ]
     },
     "metadata": {},
     "output_type": "display_data"
    },
    {
     "name": "stdout",
     "output_type": "stream",
     "text": [
      "\n",
      "🔹 Dataset Info:\n",
      "<class 'pandas.core.frame.DataFrame'>\n",
      "RangeIndex: 50 entries, 0 to 49\n",
      "Data columns (total 5 columns):\n",
      " #   Column            Non-Null Count  Dtype  \n",
      "---  ------            --------------  -----  \n",
      " 0   DigitalMarketing  50 non-null     float64\n",
      " 1   Promotion         50 non-null     float64\n",
      " 2   Research          50 non-null     float64\n",
      " 3   State             50 non-null     object \n",
      " 4   Profit            50 non-null     float64\n",
      "dtypes: float64(4), object(1)\n",
      "memory usage: 2.1+ KB\n",
      "None\n",
      "\n",
      "🔹 Statistical Summary:\n"
     ]
    },
    {
     "data": {
      "text/html": [
       "<div>\n",
       "<style scoped>\n",
       "    .dataframe tbody tr th:only-of-type {\n",
       "        vertical-align: middle;\n",
       "    }\n",
       "\n",
       "    .dataframe tbody tr th {\n",
       "        vertical-align: top;\n",
       "    }\n",
       "\n",
       "    .dataframe thead th {\n",
       "        text-align: right;\n",
       "    }\n",
       "</style>\n",
       "<table border=\"1\" class=\"dataframe\">\n",
       "  <thead>\n",
       "    <tr style=\"text-align: right;\">\n",
       "      <th></th>\n",
       "      <th>DigitalMarketing</th>\n",
       "      <th>Promotion</th>\n",
       "      <th>Research</th>\n",
       "      <th>Profit</th>\n",
       "    </tr>\n",
       "  </thead>\n",
       "  <tbody>\n",
       "    <tr>\n",
       "      <th>count</th>\n",
       "      <td>50.000000</td>\n",
       "      <td>50.000000</td>\n",
       "      <td>50.000000</td>\n",
       "      <td>50.000000</td>\n",
       "    </tr>\n",
       "    <tr>\n",
       "      <th>mean</th>\n",
       "      <td>73721.615600</td>\n",
       "      <td>121344.639600</td>\n",
       "      <td>211025.097800</td>\n",
       "      <td>112012.639200</td>\n",
       "    </tr>\n",
       "    <tr>\n",
       "      <th>std</th>\n",
       "      <td>45902.256482</td>\n",
       "      <td>28017.802755</td>\n",
       "      <td>122290.310726</td>\n",
       "      <td>40306.180338</td>\n",
       "    </tr>\n",
       "    <tr>\n",
       "      <th>min</th>\n",
       "      <td>0.000000</td>\n",
       "      <td>51283.140000</td>\n",
       "      <td>0.000000</td>\n",
       "      <td>14681.400000</td>\n",
       "    </tr>\n",
       "    <tr>\n",
       "      <th>25%</th>\n",
       "      <td>39936.370000</td>\n",
       "      <td>103730.875000</td>\n",
       "      <td>129300.132500</td>\n",
       "      <td>90138.902500</td>\n",
       "    </tr>\n",
       "    <tr>\n",
       "      <th>50%</th>\n",
       "      <td>73051.080000</td>\n",
       "      <td>122699.795000</td>\n",
       "      <td>212716.240000</td>\n",
       "      <td>107978.190000</td>\n",
       "    </tr>\n",
       "    <tr>\n",
       "      <th>75%</th>\n",
       "      <td>101602.800000</td>\n",
       "      <td>144842.180000</td>\n",
       "      <td>299469.085000</td>\n",
       "      <td>139765.977500</td>\n",
       "    </tr>\n",
       "    <tr>\n",
       "      <th>max</th>\n",
       "      <td>165349.200000</td>\n",
       "      <td>182645.560000</td>\n",
       "      <td>471784.100000</td>\n",
       "      <td>192261.830000</td>\n",
       "    </tr>\n",
       "  </tbody>\n",
       "</table>\n",
       "</div>"
      ],
      "text/plain": [
       "       DigitalMarketing      Promotion       Research         Profit\n",
       "count         50.000000      50.000000      50.000000      50.000000\n",
       "mean       73721.615600  121344.639600  211025.097800  112012.639200\n",
       "std        45902.256482   28017.802755  122290.310726   40306.180338\n",
       "min            0.000000   51283.140000       0.000000   14681.400000\n",
       "25%        39936.370000  103730.875000  129300.132500   90138.902500\n",
       "50%        73051.080000  122699.795000  212716.240000  107978.190000\n",
       "75%       101602.800000  144842.180000  299469.085000  139765.977500\n",
       "max       165349.200000  182645.560000  471784.100000  192261.830000"
      ]
     },
     "metadata": {},
     "output_type": "display_data"
    }
   ],
   "source": [
    "# ------------------------------\n",
    "# Load the dataset\n",
    "# ------------------------------\n",
    "DATA_PATH = \"../data/Investment.csv\"   # relative path\n",
    "\n",
    "df = pd.read_csv(DATA_PATH)\n",
    "\n",
    "# Display first 5 rows\n",
    "print(\"🔹 First 5 rows of dataset:\")\n",
    "display(df.head())\n",
    "\n",
    "# Dataset info\n",
    "print(\"\\n🔹 Dataset Info:\")\n",
    "print(df.info())\n",
    "\n",
    "# Statistical summary\n",
    "print(\"\\n🔹 Statistical Summary:\")\n",
    "display(df.describe())\n"
   ]
  },
  {
   "cell_type": "markdown",
   "id": "8a99c2f5",
   "metadata": {},
   "source": [
    "<h2 style=\"text-align:center;\">🎯 Step 3: Define Independent & Dependent Variables</h2>\n",
    "\n",
    "- **Independent variables (X):** All columns except the last (`Profit`).  \n",
    "- **Dependent variable (y):** Target column (`Profit`).\n",
    "Here,  \n",
    "- `X` = all columns **except last**  \n",
    "- `y` = last column (Profit)  \n"
   ]
  },
  {
   "cell_type": "code",
   "execution_count": 3,
   "id": "4cf6594f",
   "metadata": {},
   "outputs": [
    {
     "name": "stdout",
     "output_type": "stream",
     "text": [
      "🔹 Shape of X: (50, 4)\n",
      "🔹 Shape of y: (50,)\n",
      "\n",
      "Independent Variables (X):\n"
     ]
    },
    {
     "data": {
      "text/html": [
       "<div>\n",
       "<style scoped>\n",
       "    .dataframe tbody tr th:only-of-type {\n",
       "        vertical-align: middle;\n",
       "    }\n",
       "\n",
       "    .dataframe tbody tr th {\n",
       "        vertical-align: top;\n",
       "    }\n",
       "\n",
       "    .dataframe thead th {\n",
       "        text-align: right;\n",
       "    }\n",
       "</style>\n",
       "<table border=\"1\" class=\"dataframe\">\n",
       "  <thead>\n",
       "    <tr style=\"text-align: right;\">\n",
       "      <th></th>\n",
       "      <th>DigitalMarketing</th>\n",
       "      <th>Promotion</th>\n",
       "      <th>Research</th>\n",
       "      <th>State</th>\n",
       "    </tr>\n",
       "  </thead>\n",
       "  <tbody>\n",
       "    <tr>\n",
       "      <th>0</th>\n",
       "      <td>165349.20</td>\n",
       "      <td>136897.80</td>\n",
       "      <td>471784.10</td>\n",
       "      <td>Hyderabad</td>\n",
       "    </tr>\n",
       "    <tr>\n",
       "      <th>1</th>\n",
       "      <td>162597.70</td>\n",
       "      <td>151377.59</td>\n",
       "      <td>443898.53</td>\n",
       "      <td>Bangalore</td>\n",
       "    </tr>\n",
       "    <tr>\n",
       "      <th>2</th>\n",
       "      <td>153441.51</td>\n",
       "      <td>101145.55</td>\n",
       "      <td>407934.54</td>\n",
       "      <td>Chennai</td>\n",
       "    </tr>\n",
       "    <tr>\n",
       "      <th>3</th>\n",
       "      <td>144372.41</td>\n",
       "      <td>118671.85</td>\n",
       "      <td>383199.62</td>\n",
       "      <td>Hyderabad</td>\n",
       "    </tr>\n",
       "    <tr>\n",
       "      <th>4</th>\n",
       "      <td>142107.34</td>\n",
       "      <td>91391.77</td>\n",
       "      <td>366168.42</td>\n",
       "      <td>Chennai</td>\n",
       "    </tr>\n",
       "  </tbody>\n",
       "</table>\n",
       "</div>"
      ],
      "text/plain": [
       "   DigitalMarketing  Promotion   Research      State\n",
       "0         165349.20  136897.80  471784.10  Hyderabad\n",
       "1         162597.70  151377.59  443898.53  Bangalore\n",
       "2         153441.51  101145.55  407934.54    Chennai\n",
       "3         144372.41  118671.85  383199.62  Hyderabad\n",
       "4         142107.34   91391.77  366168.42    Chennai"
      ]
     },
     "metadata": {},
     "output_type": "display_data"
    },
    {
     "name": "stdout",
     "output_type": "stream",
     "text": [
      "\n",
      "Dependent Variable (y):\n"
     ]
    },
    {
     "data": {
      "text/plain": [
       "0    192261.83\n",
       "1    191792.06\n",
       "2    191050.39\n",
       "3    182901.99\n",
       "4    166187.94\n",
       "Name: Profit, dtype: float64"
      ]
     },
     "metadata": {},
     "output_type": "display_data"
    }
   ],
   "source": [
    "# ------------------------------\n",
    "# Separate Independent (X) and Dependent (y) variables\n",
    "# ------------------------------\n",
    "\n",
    "X = df.iloc[:, :-1]   # all columns except last\n",
    "y = df.iloc[:, 4]     # Profit column\n",
    "\n",
    "print(\"🔹 Shape of X:\", X.shape)\n",
    "print(\"🔹 Shape of y:\", y.shape)\n",
    "\n",
    "# Display first 5 rows of X and y\n",
    "print(\"\\nIndependent Variables (X):\")\n",
    "display(X.head())\n",
    "\n",
    "print(\"\\nDependent Variable (y):\")\n",
    "display(y.head())\n"
   ]
  },
  {
   "cell_type": "markdown",
   "id": "017e1a00",
   "metadata": {},
   "source": [
    "<h2 style=\"text-align:center;\">Step 4: Handle Categorical Variables</h2>\n",
    "\n",
    "The column **State** is categorical, so we need to convert it into dummy variables using **One-Hot Encoding**.\n"
   ]
  },
  {
   "cell_type": "code",
   "execution_count": 4,
   "id": "bfaa8d84",
   "metadata": {},
   "outputs": [
    {
     "data": {
      "text/html": [
       "<div>\n",
       "<style scoped>\n",
       "    .dataframe tbody tr th:only-of-type {\n",
       "        vertical-align: middle;\n",
       "    }\n",
       "\n",
       "    .dataframe tbody tr th {\n",
       "        vertical-align: top;\n",
       "    }\n",
       "\n",
       "    .dataframe thead th {\n",
       "        text-align: right;\n",
       "    }\n",
       "</style>\n",
       "<table border=\"1\" class=\"dataframe\">\n",
       "  <thead>\n",
       "    <tr style=\"text-align: right;\">\n",
       "      <th></th>\n",
       "      <th>DigitalMarketing</th>\n",
       "      <th>Promotion</th>\n",
       "      <th>Research</th>\n",
       "      <th>State_Bangalore</th>\n",
       "      <th>State_Chennai</th>\n",
       "      <th>State_Hyderabad</th>\n",
       "    </tr>\n",
       "  </thead>\n",
       "  <tbody>\n",
       "    <tr>\n",
       "      <th>0</th>\n",
       "      <td>165349.20</td>\n",
       "      <td>136897.80</td>\n",
       "      <td>471784.10</td>\n",
       "      <td>0</td>\n",
       "      <td>0</td>\n",
       "      <td>1</td>\n",
       "    </tr>\n",
       "    <tr>\n",
       "      <th>1</th>\n",
       "      <td>162597.70</td>\n",
       "      <td>151377.59</td>\n",
       "      <td>443898.53</td>\n",
       "      <td>1</td>\n",
       "      <td>0</td>\n",
       "      <td>0</td>\n",
       "    </tr>\n",
       "    <tr>\n",
       "      <th>2</th>\n",
       "      <td>153441.51</td>\n",
       "      <td>101145.55</td>\n",
       "      <td>407934.54</td>\n",
       "      <td>0</td>\n",
       "      <td>1</td>\n",
       "      <td>0</td>\n",
       "    </tr>\n",
       "    <tr>\n",
       "      <th>3</th>\n",
       "      <td>144372.41</td>\n",
       "      <td>118671.85</td>\n",
       "      <td>383199.62</td>\n",
       "      <td>0</td>\n",
       "      <td>0</td>\n",
       "      <td>1</td>\n",
       "    </tr>\n",
       "    <tr>\n",
       "      <th>4</th>\n",
       "      <td>142107.34</td>\n",
       "      <td>91391.77</td>\n",
       "      <td>366168.42</td>\n",
       "      <td>0</td>\n",
       "      <td>1</td>\n",
       "      <td>0</td>\n",
       "    </tr>\n",
       "  </tbody>\n",
       "</table>\n",
       "</div>"
      ],
      "text/plain": [
       "   DigitalMarketing  Promotion   Research  State_Bangalore  State_Chennai  \\\n",
       "0         165349.20  136897.80  471784.10                0              0   \n",
       "1         162597.70  151377.59  443898.53                1              0   \n",
       "2         153441.51  101145.55  407934.54                0              1   \n",
       "3         144372.41  118671.85  383199.62                0              0   \n",
       "4         142107.34   91391.77  366168.42                0              1   \n",
       "\n",
       "   State_Hyderabad  \n",
       "0                1  \n",
       "1                0  \n",
       "2                0  \n",
       "3                1  \n",
       "4                0  "
      ]
     },
     "execution_count": 4,
     "metadata": {},
     "output_type": "execute_result"
    }
   ],
   "source": [
    "# Convert categorical 'State' into dummy variables\n",
    "X = pd.get_dummies(X, dtype=int)  \n",
    "\n",
    "X.head()\n"
   ]
  },
  {
   "cell_type": "markdown",
   "id": "59ae230e",
   "metadata": {},
   "source": [
    "<h2 style=\"text-align:center;\">Step 5: Train-Test Split</h2>\n",
    "\n",
    "We will split the dataset into **80% training** and **20% testing** using `train_test_split`.\n"
   ]
  },
  {
   "cell_type": "code",
   "execution_count": 5,
   "id": "2f12496b",
   "metadata": {},
   "outputs": [
    {
     "name": "stdout",
     "output_type": "stream",
     "text": [
      "Training set shape: (40, 6)\n",
      "Test set shape: (10, 6)\n"
     ]
    }
   ],
   "source": [
    "\n",
    "X_train, X_test, y_train, y_test = train_test_split(\n",
    "    X, y, test_size=0.2, random_state=0\n",
    ")\n",
    "\n",
    "print(\"Training set shape:\", X_train.shape)\n",
    "print(\"Test set shape:\", X_test.shape)"
   ]
  },
  {
   "cell_type": "markdown",
   "id": "810c87e1",
   "metadata": {},
   "source": [
    "<h2 style=\"text-align:center;\">Step 6: Fit Multiple Linear Regression Model</h2>\n",
    "\n",
    "We will now fit a **Linear Regression model** using sklearn.\n"
   ]
  },
  {
   "cell_type": "code",
   "execution_count": 6,
   "id": "10d01040",
   "metadata": {},
   "outputs": [
    {
     "name": "stdout",
     "output_type": "stream",
     "text": [
      "Coefficients (m): [ 7.73467193e-01  3.28845975e-02  3.66100259e-02  8.66383692e+01\n",
      " -8.72645791e+02  7.86007422e+02]\n",
      "Intercept (c): 42467.52924855314\n"
     ]
    }
   ],
   "source": [
    "# Initialize and train model\n",
    "regressor = LinearRegression()\n",
    "regressor.fit(X_train, y_train)\n",
    "\n",
    "# Predict on test set\n",
    "y_pred = regressor.predict(X_test)\n",
    "\n",
    "# Display coefficients and intercept\n",
    "print(\"Coefficients (m):\", regressor.coef_)  # ➤ slope for each feature\n",
    "print(\"Intercept (c):\", regressor.intercept_)  # ➤ constant term"
   ]
  },
  {
   "cell_type": "markdown",
   "id": "5363b989",
   "metadata": {},
   "source": [
    "<h2 style=\"text-align:center;\">Step 6 (continued): Visualizing Predictions</h2>\n",
    "\n",
    "We will compare the **actual vs predicted values** of Profit on the test set.\n"
   ]
  },
  {
   "cell_type": "code",
   "execution_count": 13,
   "id": "6d875971",
   "metadata": {},
   "outputs": [
    {
     "data": {
      "image/png": "[encoded data removed]",
      "text/plain": [
       "<Figure size 640x480 with 1 Axes>"
      ]
     },
     "metadata": {},
     "output_type": "display_data"
    }
   ],
   "source": [
    "# ------------------------------\n",
    "# Plot actual vs predicted\n",
    "plt.scatter(y_test, y_pred, color='blue')\n",
    "plt.plot([y_test.min(), y_test.max()], [y_test.min(), y_test.max()], color='red', linewidth=2)\n",
    "plt.xlabel(\"Actual Profit\")\n",
    "plt.ylabel(\"Predicted Profit\")\n",
    "plt.title(\"Actual vs Predicted Profit (MLR)\")\n",
    "plt.show()\n"
   ]
  },
  {
   "cell_type": "markdown",
   "id": "1286772b",
   "metadata": {},
   "source": [
    "<h2 style=\"text-align:center;\">Step 7: Backward Elimination</h2>\n",
    "\n",
    "We will use **Statsmodels** to apply Backward Elimination:\n",
    "1. Start with all predictors.  \n",
    "2. Remove the variable with the highest **p-value** (if > 0.05).  \n",
    "3. Repeat until only significant predictors remain.  \n"
   ]
  },
  {
   "cell_type": "code",
   "execution_count": 7,
   "id": "0613b07b",
   "metadata": {},
   "outputs": [
    {
     "name": "stdout",
     "output_type": "stream",
     "text": [
      "                            OLS Regression Results                            \n",
      "==============================================================================\n",
      "Dep. Variable:                 Profit   R-squared:                       0.951\n",
      "Model:                            OLS   Adj. R-squared:                  0.945\n",
      "Method:                 Least Squares   F-statistic:                     169.9\n",
      "Date:                Thu, 21 Aug 2025   Prob (F-statistic):           1.34e-27\n",
      "Time:                        14:51:58   Log-Likelihood:                -525.38\n",
      "No. Observations:                  50   AIC:                             1063.\n",
      "Df Residuals:                      44   BIC:                             1074.\n",
      "Df Model:                           5                                         \n",
      "Covariance Type:            nonrobust                                         \n",
      "==============================================================================\n",
      "                 coef    std err          t      P>|t|      [0.025      0.975]\n",
      "------------------------------------------------------------------------------\n",
      "const       5.008e+04   6952.587      7.204      0.000    3.61e+04    6.41e+04\n",
      "x1             0.8060      0.046     17.369      0.000       0.712       0.900\n",
      "x2            -0.0270      0.052     -0.517      0.608      -0.132       0.078\n",
      "x3             0.0270      0.017      1.574      0.123      -0.008       0.062\n",
      "x4            41.8870   3256.039      0.013      0.990   -6520.229    6604.003\n",
      "x5           240.6758   3338.857      0.072      0.943   -6488.349    6969.701\n",
      "==============================================================================\n",
      "Omnibus:                       14.782   Durbin-Watson:                   1.283\n",
      "Prob(Omnibus):                  0.001   Jarque-Bera (JB):               21.266\n",
      "Skew:                          -0.948   Prob(JB):                     2.41e-05\n",
      "Kurtosis:                       5.572   Cond. No.                     1.47e+06\n",
      "==============================================================================\n",
      "\n",
      "Notes:\n",
      "[1] Standard Errors assume that the covariance matrix of the errors is correctly specified.\n",
      "[2] The condition number is large, 1.47e+06. This might indicate that there are\n",
      "strong multicollinearity or other numerical problems.\n"
     ]
    }
   ],
   "source": [
    "# Add a constant column for intercept\n",
    "X_with_const = np.append(arr=np.ones((X.shape[0], 1)).astype(int), values=X.values, axis=1)\n",
    "\n",
    "# Step 1: Start with all predictors\n",
    "X_opt = X_with_const[:, [0, 1, 2, 3, 4, 5]]  # indices depend on dataset\n",
    "regressor_OLS = sm.OLS(endog=y, exog=X_opt).fit()\n",
    "print(regressor_OLS.summary())"
   ]
  },
  {
   "cell_type": "markdown",
   "id": "46469888",
   "metadata": {},
   "source": [
    "<h3>Iteration 2: Remove Highest p-value Feature</h3>\n"
   ]
  },
  {
   "cell_type": "code",
   "execution_count": 8,
   "id": "0d24a7c7",
   "metadata": {},
   "outputs": [
    {
     "name": "stdout",
     "output_type": "stream",
     "text": [
      "                            OLS Regression Results                            \n",
      "==============================================================================\n",
      "Dep. Variable:                 Profit   R-squared:                       0.951\n",
      "Model:                            OLS   Adj. R-squared:                  0.946\n",
      "Method:                 Least Squares   F-statistic:                     217.2\n",
      "Date:                Thu, 21 Aug 2025   Prob (F-statistic):           8.49e-29\n",
      "Time:                        14:53:25   Log-Likelihood:                -525.38\n",
      "No. Observations:                  50   AIC:                             1061.\n",
      "Df Residuals:                      45   BIC:                             1070.\n",
      "Df Model:                           4                                         \n",
      "Covariance Type:            nonrobust                                         \n",
      "==============================================================================\n",
      "                 coef    std err          t      P>|t|      [0.025      0.975]\n",
      "------------------------------------------------------------------------------\n",
      "const       5.011e+04   6647.870      7.537      0.000    3.67e+04    6.35e+04\n",
      "x1             0.8060      0.046     17.606      0.000       0.714       0.898\n",
      "x2            -0.0270      0.052     -0.523      0.604      -0.131       0.077\n",
      "x3             0.0270      0.017      1.592      0.118      -0.007       0.061\n",
      "x4           220.1585   2900.536      0.076      0.940   -5621.821    6062.138\n",
      "==============================================================================\n",
      "Omnibus:                       14.758   Durbin-Watson:                   1.282\n",
      "Prob(Omnibus):                  0.001   Jarque-Bera (JB):               21.172\n",
      "Skew:                          -0.948   Prob(JB):                     2.53e-05\n",
      "Kurtosis:                       5.563   Cond. No.                     1.40e+06\n",
      "==============================================================================\n",
      "\n",
      "Notes:\n",
      "[1] Standard Errors assume that the covariance matrix of the errors is correctly specified.\n",
      "[2] The condition number is large, 1.4e+06. This might indicate that there are\n",
      "strong multicollinearity or other numerical problems.\n"
     ]
    }
   ],
   "source": [
    "# Iteration 2\n",
    "X_opt = X_with_const[:, [0, 1, 2, 3, 5]]\n",
    "regressor_OLS = sm.OLS(endog=y, exog=X_opt).fit()\n",
    "print(regressor_OLS.summary())\n"
   ]
  },
  {
   "cell_type": "markdown",
   "id": "4af5fc52",
   "metadata": {},
   "source": [
    "<h3>Iteration 3: Remove Next Highest p-value Feature</h3>\n"
   ]
  },
  {
   "cell_type": "code",
   "execution_count": 9,
   "id": "fe1a2218",
   "metadata": {},
   "outputs": [
    {
     "name": "stdout",
     "output_type": "stream",
     "text": [
      "                            OLS Regression Results                            \n",
      "==============================================================================\n",
      "Dep. Variable:                 Profit   R-squared:                       0.951\n",
      "Model:                            OLS   Adj. R-squared:                  0.948\n",
      "Method:                 Least Squares   F-statistic:                     296.0\n",
      "Date:                Thu, 21 Aug 2025   Prob (F-statistic):           4.53e-30\n",
      "Time:                        14:53:51   Log-Likelihood:                -525.39\n",
      "No. Observations:                  50   AIC:                             1059.\n",
      "Df Residuals:                      46   BIC:                             1066.\n",
      "Df Model:                           3                                         \n",
      "Covariance Type:            nonrobust                                         \n",
      "==============================================================================\n",
      "                 coef    std err          t      P>|t|      [0.025      0.975]\n",
      "------------------------------------------------------------------------------\n",
      "const       5.012e+04   6572.353      7.626      0.000    3.69e+04    6.34e+04\n",
      "x1             0.8057      0.045     17.846      0.000       0.715       0.897\n",
      "x2            -0.0268      0.051     -0.526      0.602      -0.130       0.076\n",
      "x3             0.0272      0.016      1.655      0.105      -0.006       0.060\n",
      "==============================================================================\n",
      "Omnibus:                       14.838   Durbin-Watson:                   1.282\n",
      "Prob(Omnibus):                  0.001   Jarque-Bera (JB):               21.442\n",
      "Skew:                          -0.949   Prob(JB):                     2.21e-05\n",
      "Kurtosis:                       5.586   Cond. No.                     1.40e+06\n",
      "==============================================================================\n",
      "\n",
      "Notes:\n",
      "[1] Standard Errors assume that the covariance matrix of the errors is correctly specified.\n",
      "[2] The condition number is large, 1.4e+06. This might indicate that there are\n",
      "strong multicollinearity or other numerical problems.\n"
     ]
    }
   ],
   "source": [
    "# Iteration 3\n",
    "X_opt = X_with_const[:, [0, 1, 2, 3]]\n",
    "regressor_OLS = sm.OLS(endog=y, exog=X_opt).fit()\n",
    "print(regressor_OLS.summary())\n"
   ]
  },
  {
   "cell_type": "markdown",
   "id": "58a89fc8",
   "metadata": {},
   "source": [
    "<h3>Iteration 4: Further Feature Removal</h3>\n"
   ]
  },
  {
   "cell_type": "code",
   "execution_count": 10,
   "id": "fdd917c4",
   "metadata": {},
   "outputs": [
    {
     "name": "stdout",
     "output_type": "stream",
     "text": [
      "                            OLS Regression Results                            \n",
      "==============================================================================\n",
      "Dep. Variable:                 Profit   R-squared:                       0.950\n",
      "Model:                            OLS   Adj. R-squared:                  0.948\n",
      "Method:                 Least Squares   F-statistic:                     450.8\n",
      "Date:                Thu, 21 Aug 2025   Prob (F-statistic):           2.16e-31\n",
      "Time:                        14:54:27   Log-Likelihood:                -525.54\n",
      "No. Observations:                  50   AIC:                             1057.\n",
      "Df Residuals:                      47   BIC:                             1063.\n",
      "Df Model:                           2                                         \n",
      "Covariance Type:            nonrobust                                         \n",
      "==============================================================================\n",
      "                 coef    std err          t      P>|t|      [0.025      0.975]\n",
      "------------------------------------------------------------------------------\n",
      "const       4.698e+04   2689.933     17.464      0.000    4.16e+04    5.24e+04\n",
      "x1             0.7966      0.041     19.266      0.000       0.713       0.880\n",
      "x2             0.0299      0.016      1.927      0.060      -0.001       0.061\n",
      "==============================================================================\n",
      "Omnibus:                       14.677   Durbin-Watson:                   1.257\n",
      "Prob(Omnibus):                  0.001   Jarque-Bera (JB):               21.161\n",
      "Skew:                          -0.939   Prob(JB):                     2.54e-05\n",
      "Kurtosis:                       5.575   Cond. No.                     5.32e+05\n",
      "==============================================================================\n",
      "\n",
      "Notes:\n",
      "[1] Standard Errors assume that the covariance matrix of the errors is correctly specified.\n",
      "[2] The condition number is large, 5.32e+05. This might indicate that there are\n",
      "strong multicollinearity or other numerical problems.\n"
     ]
    }
   ],
   "source": [
    "# Iteration 4\n",
    "X_opt = X_with_const[:, [0, 1, 3]]\n",
    "regressor_OLS = sm.OLS(endog=y, exog=X_opt).fit()\n",
    "print(regressor_OLS.summary())\n"
   ]
  },
  {
   "cell_type": "markdown",
   "id": "68fbb86a",
   "metadata": {},
   "source": [
    "<h3>Final Iteration: Optimal Model</h3>\n"
   ]
  },
  {
   "cell_type": "code",
   "execution_count": 11,
   "id": "8334ce1d",
   "metadata": {},
   "outputs": [
    {
     "name": "stdout",
     "output_type": "stream",
     "text": [
      "                            OLS Regression Results                            \n",
      "==============================================================================\n",
      "Dep. Variable:                 Profit   R-squared:                       0.947\n",
      "Model:                            OLS   Adj. R-squared:                  0.945\n",
      "Method:                 Least Squares   F-statistic:                     849.8\n",
      "Date:                Thu, 21 Aug 2025   Prob (F-statistic):           3.50e-32\n",
      "Time:                        14:54:49   Log-Likelihood:                -527.44\n",
      "No. Observations:                  50   AIC:                             1059.\n",
      "Df Residuals:                      48   BIC:                             1063.\n",
      "Df Model:                           1                                         \n",
      "Covariance Type:            nonrobust                                         \n",
      "==============================================================================\n",
      "                 coef    std err          t      P>|t|      [0.025      0.975]\n",
      "------------------------------------------------------------------------------\n",
      "const       4.903e+04   2537.897     19.320      0.000    4.39e+04    5.41e+04\n",
      "x1             0.8543      0.029     29.151      0.000       0.795       0.913\n",
      "==============================================================================\n",
      "Omnibus:                       13.727   Durbin-Watson:                   1.116\n",
      "Prob(Omnibus):                  0.001   Jarque-Bera (JB):               18.536\n",
      "Skew:                          -0.911   Prob(JB):                     9.44e-05\n",
      "Kurtosis:                       5.361   Cond. No.                     1.65e+05\n",
      "==============================================================================\n",
      "\n",
      "Notes:\n",
      "[1] Standard Errors assume that the covariance matrix of the errors is correctly specified.\n",
      "[2] The condition number is large, 1.65e+05. This might indicate that there are\n",
      "strong multicollinearity or other numerical problems.\n"
     ]
    }
   ],
   "source": [
    "# Final iteration\n",
    "X_opt = X_with_const[:, [0, 1]]\n",
    "regressor_OLS = sm.OLS(endog=y, exog=X_opt).fit()\n",
    "print(regressor_OLS.summary())"
   ]
  },
  {
   "cell_type": "markdown",
   "id": "9a6e2aa8",
   "metadata": {},
   "source": [
    "<h2 style=\"text-align:center;\">Last-Step: Save the Trained MLR Model</h2>\n",
    "\n",
    "In this step, we will save the trained Multiple Linear Regression model into a `.pkl` file using the `pickle` library.  \n",
    "This saved model will later be used in our Streamlit frontend application for real-time predictions.\n"
   ]
  },
  {
   "cell_type": "code",
   "execution_count": 15,
   "id": "e9236410",
   "metadata": {},
   "outputs": [
    {
     "name": "stdout",
     "output_type": "stream",
     "text": [
      "✅ Model saved successfully at: ../models/multiple_linear_regression_model.pkl\n"
     ]
    }
   ],
   "source": [
    "# ------------------------------\n",
    "# Save the trained MLR model\n",
    "# ------------------------------\n",
    "\n",
    "# Create models directory if it doesn't exist\n",
    "os.makedirs(\"../models\", exist_ok=True)\n",
    "\n",
    "MODEL_PATH = \"../models/multiple_linear_regression_model.pkl\"\n",
    "\n",
    "# Save the regressor (trained Linear Regression model)\n",
    "with open(MODEL_PATH, \"wb\") as file:\n",
    "    pickle.dump(regressor, file)\n",
    "\n",
    "print(f\"✅ Model saved successfully at: {MODEL_PATH}\")\n"
   ]
  },
  {
   "cell_type": "markdown",
   "id": "5aaf0cb4",
   "metadata": {},
   "source": [
    "<h2 style=\"text-align:center;\">📌 Conclusion & Key Takeaways</h2>\n",
    "\n",
    "- **Multiple Linear Regression (MLR)** was applied on the *Investment dataset* to predict `Profit` based on features like `DigitalMarketing`, `Promotion`, `Research`, and `State`.  \n",
    "- Using **scikit-learn**, we trained the model and evaluated it with metrics like **R²** and **Mean Squared Error (MSE)**.  \n",
    "- Model coefficients gave us insight into how each feature influences `Profit`.  \n",
    "- We then applied **Backward Elimination (OLS with statsmodels)** for feature selection:\n",
    "  - Started with all features.\n",
    "  - Iteratively removed predictors with the highest **p-values (> 0.05)**.\n",
    "  - Retained only statistically significant variables in the final model.  \n",
    "\n",
    "✅ **Key Learning Points:**  \n",
    "1. MLR can handle multiple predictors at once.  \n",
    "2. Feature selection is crucial — not all predictors contribute meaningfully.  \n",
    "3. **OLS summary** helps in interpreting feature significance beyond prediction accuracy.  \n",
    "\n",
    "🚀 With this, we now understand both the **practical machine learning workflow** and the **statistical interpretation** of regression models.  \n"
   ]
  }
 ],
 "metadata": {
  "kernelspec": {
   "display_name": "base",
   "language": "python",
   "name": "python3"
  },
  "language_info": {
   "codemirror_mode": {
    "name": "ipython",
    "version": 3
   },
   "file_extension": ".py",
   "mimetype": "text/x-python",
   "name": "python",
   "nbconvert_exporter": "python",
   "pygments_lexer": "ipython3",
   "version": "3.12.7"
  }
 },
 "nbformat": 4,
 "nbformat_minor": 5
}
