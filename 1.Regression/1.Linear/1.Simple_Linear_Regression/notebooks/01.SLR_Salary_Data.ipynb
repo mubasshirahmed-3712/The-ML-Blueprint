{
 "cells": [
  {
   "cell_type": "markdown",
   "id": "621dc230",
   "metadata": {},
   "source": [
    "<h2 style=\"text-align:center;\">Simple Linear Regression - Salary Prediction</h2>\n",
    "\n",
    "### 🎯 Objective\n",
    "In this notebook, we will build a **Simple Linear Regression (SLR)** model to predict an employee's salary based on their years of experience.\n",
    "\n",
    "---\n",
    "\n",
    "### 📂 Steps Covered\n",
    "1. Load & explore dataset  \n",
    "2. Split into train & test sets  \n",
    "3. Train the SLR model  \n",
    "4. Visualize training & test results  \n",
    "5. Evaluate model performance  \n",
    "6. Save trained model for deployment  \n",
    "\n",
    "---\n",
    "\n",
    "**Dataset:** `Salary_Data.csv` (30 records, 2 columns → YearsExperience & Salary)  \n"
   ]
  },
  {
   "cell_type": "code",
   "execution_count": 1,
   "id": "a28516c2",
   "metadata": {},
   "outputs": [],
   "source": [
    "# Import required libraries\n",
    "import numpy as np\n",
    "import pandas as pd\n",
    "import matplotlib.pyplot as plt\n",
    "from sklearn.model_selection import train_test_split\n",
    "from sklearn.linear_model import LinearRegression\n",
    "from sklearn.metrics import mean_squared_error, r2_score\n",
    "import pickle\n",
    "\n",
    "# Display plots inline\n",
    "%matplotlib inline\n"
   ]
  },
  {
   "cell_type": "markdown",
   "id": "066946ef",
   "metadata": {},
   "source": [
    "<h2 style=\"text-align:center;\">Step 1: Load Dataset</h2>\n",
    "\n",
    "We will load the **Salary_Data.csv** file from the `data/` folder and check the structure.\n"
   ]
  },
  {
   "cell_type": "code",
   "execution_count": 2,
   "metadata": {},
   "outputs": [
    {
     "name": "stdout",
     "output_type": "stream",
     "text": [
      "Dataset Preview:\n"
     ]
    },
    {
     "data": {
      "text/html": [
       "<div>\n",
       "<style scoped>\n",
       "    .dataframe tbody tr th:only-of-type {\n",
       "        vertical-align: middle;\n",
       "    }\n",
       "\n",
       "    .dataframe tbody tr th {\n",
       "        vertical-align: top;\n",
       "    }\n",
       "\n",
       "    .dataframe thead th {\n",
       "        text-align: right;\n",
       "    }\n",
       "</style>\n",
       "<table border=\"1\" class=\"dataframe\">\n",
       "  <thead>\n",
       "    <tr style=\"text-align: right;\">\n",
       "      <th></th>\n",
       "      <th>YearsExperience</th>\n",
       "      <th>Salary</th>\n",
       "    </tr>\n",
       "  </thead>\n",
       "  <tbody>\n",
       "    <tr>\n",
       "      <th>0</th>\n",
       "      <td>1.1</td>\n",
       "      <td>39343</td>\n",
       "    </tr>\n",
       "    <tr>\n",
       "      <th>1</th>\n",
       "      <td>1.3</td>\n",
       "      <td>46205</td>\n",
       "    </tr>\n",
       "    <tr>\n",
       "      <th>2</th>\n",
       "      <td>1.5</td>\n",
       "      <td>37731</td>\n",
       "    </tr>\n",
       "    <tr>\n",
       "      <th>3</th>\n",
       "      <td>2.0</td>\n",
       "      <td>43525</td>\n",
       "    </tr>\n",
       "    <tr>\n",
       "      <th>4</th>\n",
       "      <td>2.2</td>\n",
       "      <td>39891</td>\n",
       "    </tr>\n",
       "  </tbody>\n",
       "</table>\n",
       "</div>"
      ],
      "text/plain": [
       "   YearsExperience  Salary\n",
       "0              1.1   39343\n",
       "1              1.3   46205\n",
       "2              1.5   37731\n",
       "3              2.0   43525\n",
       "4              2.2   39891"
      ]
     },
     "metadata": {},
     "output_type": "display_data"
    },
    {
     "name": "stdout",
     "output_type": "stream",
     "text": [
      "\n",
      "Dataset Info:\n",
      "<class 'pandas.core.frame.DataFrame'>\n",
      "RangeIndex: 30 entries, 0 to 29\n",
      "Data columns (total 2 columns):\n",
      " #   Column           Non-Null Count  Dtype  \n",
      "---  ------           --------------  -----  \n",
      " 0   YearsExperience  30 non-null     float64\n",
      " 1   Salary           30 non-null     int64  \n",
      "dtypes: float64(1), int64(1)\n",
      "memory usage: 612.0 bytes\n",
      "None\n",
      "\n",
      "Dataset Shape: (30, 2)\n"
     ]
    }
   ],
   "source": [
    "# Load dataset\n",
    "dataset = pd.read_csv(\"../data/Salary_Data.csv\")\n",
    "\n",
    "# Display first 5 rows\n",
    "print(\"Dataset Preview:\")\n",
    "display(dataset.head())\n",
    "\n",
    "# Dataset info\n",
    "print(\"\\nDataset Info:\")\n",
    "print(dataset.info())\n",
    "\n",
    "# Shape of dataset\n",
    "print(\"\\nDataset Shape:\", dataset.shape)\n"
   ]
  },
  {
   "cell_type": "markdown",
   "id": "d55ad81b",
   "metadata": {},
   "source": [
    "<h2 style=\"text-align:center;\">Step 2: Feature Selection</h2>\n",
    "\n",
    "We will separate the dataset into:\n",
    "- **Independent variable (X):** Years of Experience  \n",
    "- **Dependent variable (y):** Salary  \n"
   ]
  },
  {
   "cell_type": "code",
   "execution_count": 3,
   "id": "11200f57",
   "metadata": {},
   "outputs": [
    {
     "name": "stdout",
     "output_type": "stream",
     "text": [
      "Feature Sample (X): [[1.1]\n",
      " [1.3]\n",
      " [1.5]\n",
      " [2. ]\n",
      " [2.2]]\n",
      "Target Sample (y): [39343 46205 37731 43525 39891]\n"
     ]
    }
   ],
   "source": [
    "# Independent variable (YearsExperience)\n",
    "X = dataset.iloc[:, :-1].values  \n",
    "\n",
    "# Dependent variable (Salary)\n",
    "y = dataset.iloc[:, -1].values  \n",
    "\n",
    "print(\"Feature Sample (X):\", X[:5])\n",
    "print(\"Target Sample (y):\", y[:5])\n"
   ]
  },
  {
   "cell_type": "markdown",
   "id": "29cabc81",
   "metadata": {},
   "source": [
    "<h2 style=\"text-align:center;\">Step 3: Train-Test Split</h2>\n",
    "\n",
    "We will split the dataset into:\n",
    "- **Training set (80%)**\n",
    "- **Testing set (20%)**\n",
    "\n",
    "This ensures the model is trained on one set and evaluated on unseen data.\n"
   ]
  },
  {
   "cell_type": "code",
   "execution_count": 4,
   "id": "00b80613",
   "metadata": {},
   "outputs": [
    {
     "name": "stdout",
     "output_type": "stream",
     "text": [
      "Training set shape: (24, 1) (24,)\n",
      "Testing set shape: (6, 1) (6,)\n"
     ]
    }
   ],
   "source": [
    "# Split dataset (80% train, 20% test)\n",
    "X_train, X_test, y_train, y_test = train_test_split(\n",
    "    X, y, test_size=0.20, random_state=0\n",
    ")\n",
    "\n",
    "print(\"Training set shape:\", X_train.shape, y_train.shape)\n",
    "print(\"Testing set shape:\", X_test.shape, y_test.shape)\n"
   ]
  },
  {
   "cell_type": "markdown",
   "id": "b6028346",
   "metadata": {},
   "source": [
    "<h2 style=\"text-align:center;\">Step 4: Train the Simple Linear Regression Model</h2>\n"
   ]
  },
  {
   "cell_type": "code",
   "execution_count": 5,
   "id": "21d902fa",
   "metadata": {},
   "outputs": [
    {
     "name": "stdout",
     "output_type": "stream",
     "text": [
      "Model trained successfully ✅\n",
      "Intercept: 26780.09915062818\n",
      "Coefficient: [9312.57512673]\n"
     ]
    }
   ],
   "source": [
    "# Create and train the Linear Regression model\n",
    "regressor = LinearRegression()\n",
    "regressor.fit(X_train, y_train)\n",
    "\n",
    "print(\"Model trained successfully ✅\")\n",
    "print(\"Intercept:\", regressor.intercept_)\n",
    "print(\"Coefficient:\", regressor.coef_)\n"
   ]
  },
  {
   "cell_type": "markdown",
   "id": "085402c7",
   "metadata": {},
   "source": [
    "<h2 style=\"text-align:center;\">Step 5: Predictions & Visualization</h2>\n",
    "\n",
    "We will:\n",
    "1. Predict salaries for the test set  \n",
    "2. Compare actual vs predicted values  \n",
    "3. Visualize the regression line on both training & test sets  \n"
   ]
  },
  {
   "cell_type": "code",
   "execution_count": 6,
   "id": "e6293579",
   "metadata": {},
   "outputs": [
    {
     "name": "stdout",
     "output_type": "stream",
     "text": [
      "\n",
      "Comparison (Actual vs Predicted):\n"
     ]
    },
    {
     "data": {
      "text/html": [
       "<div>\n",
       "<style scoped>\n",
       "    .dataframe tbody tr th:only-of-type {\n",
       "        vertical-align: middle;\n",
       "    }\n",
       "\n",
       "    .dataframe tbody tr th {\n",
       "        vertical-align: top;\n",
       "    }\n",
       "\n",
       "    .dataframe thead th {\n",
       "        text-align: right;\n",
       "    }\n",
       "</style>\n",
       "<table border=\"1\" class=\"dataframe\">\n",
       "  <thead>\n",
       "    <tr style=\"text-align: right;\">\n",
       "      <th></th>\n",
       "      <th>Actual</th>\n",
       "      <th>Predicted</th>\n",
       "    </tr>\n",
       "  </thead>\n",
       "  <tbody>\n",
       "    <tr>\n",
       "      <th>0</th>\n",
       "      <td>37731</td>\n",
       "      <td>40748.961841</td>\n",
       "    </tr>\n",
       "    <tr>\n",
       "      <th>1</th>\n",
       "      <td>122391</td>\n",
       "      <td>122699.622956</td>\n",
       "    </tr>\n",
       "    <tr>\n",
       "      <th>2</th>\n",
       "      <td>57081</td>\n",
       "      <td>64961.657170</td>\n",
       "    </tr>\n",
       "    <tr>\n",
       "      <th>3</th>\n",
       "      <td>63218</td>\n",
       "      <td>63099.142145</td>\n",
       "    </tr>\n",
       "    <tr>\n",
       "      <th>4</th>\n",
       "      <td>116969</td>\n",
       "      <td>115249.562855</td>\n",
       "    </tr>\n",
       "    <tr>\n",
       "      <th>5</th>\n",
       "      <td>109431</td>\n",
       "      <td>107799.502753</td>\n",
       "    </tr>\n",
       "  </tbody>\n",
       "</table>\n",
       "</div>"
      ],
      "text/plain": [
       "   Actual      Predicted\n",
       "0   37731   40748.961841\n",
       "1  122391  122699.622956\n",
       "2   57081   64961.657170\n",
       "3   63218   63099.142145\n",
       "4  116969  115249.562855\n",
       "5  109431  107799.502753"
      ]
     },
     "metadata": {},
     "output_type": "display_data"
    },
    {
     "data": {
      "image/png": "[encoded data removed]",
      "text/plain": [
       "<Figure size 640x480 with 1 Axes>"
      ]
     },
     "metadata": {},
     "output_type": "display_data"
    },
    {
     "data": {
      "image/png": "[encoded data removed]",
      "text/plain": [
       "<Figure size 640x480 with 1 Axes>"
      ]
     },
     "metadata": {},
     "output_type": "display_data"
    }
   ],
   "source": [
    "# Predicting test set results\n",
    "y_pred = regressor.predict(X_test)\n",
    "\n",
    "# Compare actual vs predicted\n",
    "comparison = pd.DataFrame({\"Actual\": y_test, \"Predicted\": y_pred})\n",
    "print(\"\\nComparison (Actual vs Predicted):\")\n",
    "display(comparison)\n",
    "\n",
    "# Visualize Training set\n",
    "plt.scatter(X_train, y_train, color='red', label=\"Actual\")\n",
    "plt.plot(X_train, regressor.predict(X_train), color='blue', label=\"Regression Line\")\n",
    "plt.title(\"Salary vs Experience (Training set)\")\n",
    "plt.xlabel(\"Years of Experience\")\n",
    "plt.ylabel(\"Salary\")\n",
    "plt.legend()\n",
    "plt.show()\n",
    "\n",
    "# Visualize Test set\n",
    "plt.scatter(X_test, y_test, color='red', label=\"Actual\")\n",
    "plt.plot(X_train, regressor.predict(X_train), color='blue', label=\"Regression Line\")\n",
    "plt.title(\"Salary vs Experience (Test set)\")\n",
    "plt.xlabel(\"Years of Experience\")\n",
    "plt.ylabel(\"Salary\")\n",
    "plt.legend()\n",
    "plt.show()\n"
   ]
  },
  {
   "cell_type": "markdown",
   "id": "d66422a1",
   "metadata": {},
   "source": [
    "<h2 style=\"text-align:center;\">Step 6: Model Evaluation</h2>\n",
    "\n",
    "We will evaluate the model using:\n",
    "- **Mean Squared Error (MSE)**\n",
    "- **R² Score (Coefficient of Determination)**\n"
   ]
  },
  {
   "cell_type": "code",
   "execution_count": 7,
   "id": "6891bf01",
   "metadata": {},
   "outputs": [
    {
     "name": "stdout",
     "output_type": "stream",
     "text": [
      "Training MSE: 36149670.12\n",
      "Testing MSE: 12823412.30\n",
      "Training R² Score: 0.94\n",
      "Testing R² Score: 0.99\n"
     ]
    }
   ],
   "source": [
    "# Evaluation metrics\n",
    "train_pred = regressor.predict(X_train)\n",
    "\n",
    "train_mse = mean_squared_error(y_train, train_pred)\n",
    "test_mse = mean_squared_error(y_test, y_pred)\n",
    "train_r2 = r2_score(y_train, train_pred)\n",
    "test_r2 = r2_score(y_test, y_pred)\n",
    "\n",
    "print(f\"Training MSE: {train_mse:.2f}\")\n",
    "print(f\"Testing MSE: {test_mse:.2f}\")\n",
    "print(f\"Training R² Score: {train_r2:.2f}\")\n",
    "print(f\"Testing R² Score: {test_r2:.2f}\")\n"
   ]
  },
  {
   "cell_type": "markdown",
   "id": "f3b48b1a",
   "metadata": {},
   "source": [
    "<h2 style=\"text-align:center;\">Step 7: Save the Model</h2>\n",
    "\n",
    "We will save the trained model as a `.pkl` file in the `models/` folder using **pickle**.  \n",
    "This will be later used in a Streamlit app for deployment.\n"
   ]
  },
  {
   "cell_type": "code",
   "execution_count": 8,
   "id": "fb067f97",
   "metadata": {},
   "outputs": [
    {
     "name": "stdout",
     "output_type": "stream",
     "text": [
      "✅ Model saved successfully at: ../models/linear_regression_model.pkl\n"
     ]
    }
   ],
   "source": [
    "# Save trained model\n",
    "model_path = \"../models/linear_regression_model.pkl\"\n",
    "with open(model_path, \"wb\") as file:\n",
    "    pickle.dump(regressor, file)\n",
    "\n",
    "print(f\"✅ Model saved successfully at: {model_path}\")\n"
   ]
  }
 ],
 "metadata": {
  "kernelspec": {
   "display_name": "base",
   "language": "python",
   "name": "python3"
  },
  "language_info": {
   "codemirror_mode": {
    "name": "ipython",
    "version": 3
   },
   "file_extension": ".py",
   "mimetype": "text/x-python",
   "name": "python",
   "nbconvert_exporter": "python",
   "pygments_lexer": "ipython3",
   "version": "3.12.7"
  }
 },
 "nbformat": 4,
 "nbformat_minor": 5
}
