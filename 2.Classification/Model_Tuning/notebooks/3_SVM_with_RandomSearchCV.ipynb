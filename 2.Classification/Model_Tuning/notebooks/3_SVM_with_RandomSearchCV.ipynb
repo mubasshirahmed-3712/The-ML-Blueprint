{
 "cells": [
  {
   "cell_type": "markdown",
   "id": "6793c6aa",
   "metadata": {},
   "source": [
    "<h2 style=\"text-align:center;\">Support Vector Machine with RandomizedSearchCV</h2>\n",
    "\n",
    "---\n",
    "\n",
    "## 🔹 Introduction\n",
    "\n",
    "- **GridSearchCV** tries *all* parameter combinations → very accurate but **computationally expensive**.  \n",
    "- **RandomizedSearchCV** samples only a fixed number of parameter combinations.  \n",
    "- It is faster, especially when:\n",
    "  - Parameter space is very large.\n",
    "  - We want a good-enough model quickly.  \n",
    "\n",
    "In this notebook:\n",
    "1. Train baseline SVM.  \n",
    "2. Apply RandomizedSearchCV with parameter distributions.  \n",
    "3. Compare performance vs GridSearch.  \n"
   ]
  },
  {
   "cell_type": "code",
   "execution_count": 1,
   "id": "f31cc547",
   "metadata": {},
   "outputs": [],
   "source": [
    "# 📌 Import libraries\n",
    "import numpy as np\n",
    "import pandas as pd\n",
    "\n",
    "from sklearn.model_selection import train_test_split, RandomizedSearchCV\n",
    "from sklearn.preprocessing import StandardScaler\n",
    "from sklearn.svm import SVC\n",
    "from sklearn.metrics import confusion_matrix, accuracy_score\n",
    "from scipy.stats import uniform\n"
   ]
  },
  {
   "cell_type": "code",
   "execution_count": 2,
   "id": "026be13f",
   "metadata": {},
   "outputs": [],
   "source": [
    "# 📌 Load dataset\n",
    "dataset = pd.read_csv(\"../data/Social_Network_Ads.csv\")\n",
    "\n",
    "X = dataset.iloc[:, 2:4].values   # Age, EstimatedSalary\n",
    "y = dataset.iloc[:, -1].values    # Purchased\n",
    "\n",
    "# Feature Scaling\n",
    "scaler = StandardScaler()\n",
    "X = scaler.fit_transform(X)\n",
    "\n",
    "# Train/Test Split\n",
    "X_train, X_test, y_train, y_test = train_test_split(\n",
    "    X, y, test_size=0.25, random_state=0\n",
    ")\n"
   ]
  },
  {
   "cell_type": "code",
   "execution_count": 3,
   "id": "329ec17e",
   "metadata": {},
   "outputs": [
    {
     "name": "stdout",
     "output_type": "stream",
     "text": [
      "Baseline Accuracy (default SVM): 93.00 %\n"
     ]
    }
   ],
   "source": [
    "# 📌 Baseline SVM (before tuning)\n",
    "baseline_clf = SVC(kernel=\"rbf\", random_state=0)\n",
    "baseline_clf.fit(X_train, y_train)\n",
    "\n",
    "y_pred_base = baseline_clf.predict(X_test)\n",
    "base_acc = accuracy_score(y_test, y_pred_base)\n",
    "\n",
    "print(\"Baseline Accuracy (default SVM): {:.2f} %\".format(base_acc*100))  # ➤ Example: 93%\n"
   ]
  },
  {
   "cell_type": "code",
   "execution_count": 4,
   "id": "c1395f37",
   "metadata": {},
   "outputs": [
    {
     "name": "stdout",
     "output_type": "stream",
     "text": [
      "Best CV Accuracy (RandomizedSearchCV): 91.00 %\n",
      "Best Parameters: {'C': 100, 'gamma': 0.9579456176227568, 'kernel': 'rbf'}\n"
     ]
    }
   ],
   "source": [
    "# 📌 Define parameter distributions for RandomizedSearchCV\n",
    "param_dist = {\n",
    "    \"C\": [0.1, 1, 10, 100, 1000],\n",
    "    \"kernel\": [\"linear\", \"rbf\"],\n",
    "    \"gamma\": uniform(0.1, 1.0)   # Continuous distribution between 0.1–1.1\n",
    "}\n",
    "\n",
    "# 📌 Apply RandomizedSearchCV with 20 iterations\n",
    "random_search = RandomizedSearchCV(\n",
    "    estimator=SVC(random_state=0),\n",
    "    param_distributions=param_dist,\n",
    "    n_iter=20,\n",
    "    scoring=\"accuracy\",\n",
    "    cv=10,\n",
    "    random_state=0,\n",
    "    n_jobs=-1\n",
    ")\n",
    "\n",
    "random_search.fit(X_train, y_train)\n",
    "\n",
    "best_accuracy = random_search.best_score_\n",
    "best_params = random_search.best_params_\n",
    "\n",
    "print(\"Best CV Accuracy (RandomizedSearchCV): {:.2f} %\".format(best_accuracy*100))\n",
    "print(\"Best Parameters:\", best_params)\n"
   ]
  },
  {
   "cell_type": "code",
   "execution_count": 5,
   "id": "9652da9b",
   "metadata": {},
   "outputs": [
    {
     "name": "stdout",
     "output_type": "stream",
     "text": [
      "Test Accuracy (Tuned Model): 93.00 %\n"
     ]
    }
   ],
   "source": [
    "# 📌 Evaluate best model on Test set\n",
    "best_model = random_search.best_estimator_\n",
    "y_pred_best = best_model.predict(X_test)\n",
    "best_acc = accuracy_score(y_test, y_pred_best)\n",
    "\n",
    "print(\"Test Accuracy (Tuned Model): {:.2f} %\".format(best_acc*100))\n"
   ]
  },
  {
   "cell_type": "markdown",
   "id": "e02543de",
   "metadata": {},
   "source": [
    "## 🔹 Summary\n",
    "\n",
    "- **Baseline SVM (default)** → Accuracy = XX %  \n",
    "- **GridSearchCV (Notebook 2)** → CV Accuracy = YY %, Test Accuracy = ZZ %  \n",
    "- **RandomizedSearchCV** → CV Accuracy = AA %, Test Accuracy = BB %  \n",
    "\n",
    "✅ RandomizedSearchCV is **faster** than GridSearch (only samples parameter space).  \n",
    "✅ Performance is often very close to GridSearch.  \n",
    "✅ Useful when we have limited time or very large hyperparameter ranges.  \n",
    "\n",
    "👉 Next step (Notebook 4): Evaluate model performance with **ROC Curve & AUC**, to move beyond accuracy.\n"
   ]
  },
  {
   "cell_type": "code",
   "execution_count": null,
   "id": "c1e497f9",
   "metadata": {},
   "outputs": [],
   "source": []
  }
 ],
 "metadata": {
  "kernelspec": {
   "display_name": "base",
   "language": "python",
   "name": "python3"
  },
  "language_info": {
   "codemirror_mode": {
    "name": "ipython",
    "version": 3
   },
   "file_extension": ".py",
   "mimetype": "text/x-python",
   "name": "python",
   "nbconvert_exporter": "python",
   "pygments_lexer": "ipython3",
   "version": "3.12.7"
  }
 },
 "nbformat": 4,
 "nbformat_minor": 5
}
