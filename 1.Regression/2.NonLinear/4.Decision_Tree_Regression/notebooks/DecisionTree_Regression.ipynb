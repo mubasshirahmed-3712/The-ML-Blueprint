{
 "cells": [
  {
   "cell_type": "markdown",
   "id": "04c78bf3",
   "metadata": {},
   "source": [
    "<h2 style='text-align:center;'>Decision Tree Regression</h2>"
   ]
  },
  {
   "cell_type": "markdown",
   "id": "4d4d9861",
   "metadata": {},
   "source": [
    "\n",
    "### 📘 Introduction & Theory\n",
    "\n",
    "A **Decision Tree Regression** model is a non-linear regression technique that splits the dataset into regions \n",
    "and makes predictions based on averages of target values within those regions.\n",
    "\n",
    "- **How it works:**\n",
    "  - The algorithm splits data into branches based on conditions of features.\n",
    "  - Each leaf node represents a predicted continuous value (average of target values in that region).\n",
    "\n",
    "- **Advantages:**\n",
    "  - Easy to interpret and visualize.\n",
    "  - Captures non-linear relationships.\n",
    "  - No need for feature scaling.\n",
    "\n",
    "- **Limitations:**\n",
    "  - Can overfit easily if tree depth is not controlled.\n",
    "  - Sensitive to small variations in data.\n",
    "\n",
    "- **Important Parameters:**\n",
    "  - `max_depth` → maximum depth of the tree.\n",
    "  - `min_samples_split` → minimum samples required to split a node.\n",
    "  - `random_state` → ensures reproducibility.\n"
   ]
  },
  {
   "cell_type": "code",
   "execution_count": 1,
   "id": "adac6602",
   "metadata": {},
   "outputs": [],
   "source": [
    "\n",
    "# ➤ Import required libraries\n",
    "import numpy as np\n",
    "import pandas as pd\n",
    "import matplotlib.pyplot as plt\n",
    "from sklearn.tree import DecisionTreeRegressor\n",
    "from sklearn.metrics import r2_score\n",
    "import joblib\n"
   ]
  },
  {
   "cell_type": "code",
   "execution_count": 2,
   "id": "3df1b7d9",
   "metadata": {},
   "outputs": [
    {
     "name": "stdout",
     "output_type": "stream",
     "text": [
      "Dataset Shape: (10, 3)\n"
     ]
    },
    {
     "data": {
      "text/html": [
       "<div>\n",
       "<style scoped>\n",
       "    .dataframe tbody tr th:only-of-type {\n",
       "        vertical-align: middle;\n",
       "    }\n",
       "\n",
       "    .dataframe tbody tr th {\n",
       "        vertical-align: top;\n",
       "    }\n",
       "\n",
       "    .dataframe thead th {\n",
       "        text-align: right;\n",
       "    }\n",
       "</style>\n",
       "<table border=\"1\" class=\"dataframe\">\n",
       "  <thead>\n",
       "    <tr style=\"text-align: right;\">\n",
       "      <th></th>\n",
       "      <th>Position</th>\n",
       "      <th>Level</th>\n",
       "      <th>Salary</th>\n",
       "    </tr>\n",
       "  </thead>\n",
       "  <tbody>\n",
       "    <tr>\n",
       "      <th>0</th>\n",
       "      <td>Jr Software Engineer</td>\n",
       "      <td>1</td>\n",
       "      <td>45000</td>\n",
       "    </tr>\n",
       "    <tr>\n",
       "      <th>1</th>\n",
       "      <td>Sr Software Engineer</td>\n",
       "      <td>2</td>\n",
       "      <td>50000</td>\n",
       "    </tr>\n",
       "    <tr>\n",
       "      <th>2</th>\n",
       "      <td>Team Lead</td>\n",
       "      <td>3</td>\n",
       "      <td>60000</td>\n",
       "    </tr>\n",
       "    <tr>\n",
       "      <th>3</th>\n",
       "      <td>Manager</td>\n",
       "      <td>4</td>\n",
       "      <td>80000</td>\n",
       "    </tr>\n",
       "    <tr>\n",
       "      <th>4</th>\n",
       "      <td>Sr manager</td>\n",
       "      <td>5</td>\n",
       "      <td>110000</td>\n",
       "    </tr>\n",
       "  </tbody>\n",
       "</table>\n",
       "</div>"
      ],
      "text/plain": [
       "               Position  Level  Salary\n",
       "0  Jr Software Engineer      1   45000\n",
       "1  Sr Software Engineer      2   50000\n",
       "2             Team Lead      3   60000\n",
       "3               Manager      4   80000\n",
       "4            Sr manager      5  110000"
      ]
     },
     "execution_count": 2,
     "metadata": {},
     "output_type": "execute_result"
    }
   ],
   "source": [
    "\n",
    "# ➤ Load dataset\n",
    "df = pd.read_csv(\"../data/emp_sal.csv\")\n",
    "\n",
    "# Features and Target\n",
    "X = df.iloc[:, 1:2].values   # Position Level (2D array)\n",
    "y = df.iloc[:, 2].values     # Salary\n",
    "\n",
    "print(\"Dataset Shape:\", df.shape)\n",
    "df.head()\n"
   ]
  },
  {
   "cell_type": "code",
   "execution_count": 3,
   "id": "e429a345",
   "metadata": {},
   "outputs": [
    {
     "name": "stdout",
     "output_type": "stream",
     "text": [
      "Prediction for 6.5: [150000.]\n"
     ]
    }
   ],
   "source": [
    "\n",
    "# ➤ Train Decision Tree Regressor\n",
    "dtr_model = DecisionTreeRegressor(random_state=0)\n",
    "dtr_model.fit(X, y)\n",
    "\n",
    "# ➤ Prediction for sample value\n",
    "sample_value = 6.5\n",
    "y_pred = dtr_model.predict([[sample_value]])\n",
    "print(f\"Prediction for {sample_value}: {y_pred}\")\n"
   ]
  },
  {
   "cell_type": "code",
   "execution_count": 4,
   "id": "05463920",
   "metadata": {},
   "outputs": [
    {
     "name": "stdout",
     "output_type": "stream",
     "text": [
      "R² Score on training data: 1.0\n"
     ]
    }
   ],
   "source": [
    "\n",
    "# ➤ Model Evaluation using R² Score\n",
    "y_train_pred = dtr_model.predict(X)\n",
    "r2 = r2_score(y, y_train_pred)\n",
    "print(\"R² Score on training data:\", r2)\n"
   ]
  },
  {
   "cell_type": "code",
   "execution_count": 7,
   "id": "f4673368",
   "metadata": {},
   "outputs": [
    {
     "name": "stderr",
     "output_type": "stream",
     "text": [
      "C:\\Users\\MUBASSHIR\\AppData\\Local\\Temp\\ipykernel_14132\\931172215.py:5: DeprecationWarning: Conversion of an array with ndim > 0 to a scalar is deprecated, and will error in future. Ensure you extract a single element from your array before performing this operation. (Deprecated NumPy 1.25.)\n",
      "  X_grid = np.arange(min(X), max(X), 0.01).reshape(-1, 1)\n"
     ]
    },
    {
     "data": {
      "image/png": "[encoded data removed]",
      "text/plain": [
       "<Figure size 640x480 with 1 Axes>"
      ]
     },
     "metadata": {},
     "output_type": "display_data"
    }
   ],
   "source": [
    "# ➤ Visualization of Decision Tree Regression results (correct step function)\n",
    "import numpy as np\n",
    "\n",
    "# Create a grid for high-resolution visualization\n",
    "X_grid = np.arange(min(X), max(X), 0.01).reshape(-1, 1)\n",
    "\n",
    "plt.scatter(X, y, color=\"red\", label=\"Actual\")\n",
    "plt.plot(X_grid, dtr_model.predict(X_grid), color=\"blue\", label=\"Decision Tree Prediction\")\n",
    "plt.title(\"Decision Tree Regression (Step Function)\")\n",
    "plt.xlabel(\"Position Level\")\n",
    "plt.ylabel(\"Salary\")\n",
    "plt.legend()\n",
    "plt.show()\n"
   ]
  },
  {
   "cell_type": "code",
   "execution_count": 6,
   "id": "d2cc0b00",
   "metadata": {},
   "outputs": [
    {
     "name": "stdout",
     "output_type": "stream",
     "text": [
      "✅ Model saved as decision_tree_model.pkl\n"
     ]
    }
   ],
   "source": [
    "\n",
    "# ➤ Save the trained model as pkl file\n",
    "joblib.dump(dtr_model, \"../models/decision_tree_model.pkl\")\n",
    "print(\"✅ Model saved as decision_tree_model.pkl\")\n"
   ]
  },
  {
   "cell_type": "markdown",
   "id": "504f5120",
   "metadata": {},
   "source": [
    "\n",
    "### ✅ Summary\n",
    "\n",
    "- Trained a **Decision Tree Regression** model on `emp_sal.csv`.  \n",
    "- Made prediction for a sample value (6.5).  \n",
    "- Evaluated model performance using **R² score**.  \n",
    "- Saved trained model as **decision_tree_model.pkl** for deployment in Streamlit.  \n"
   ]
  }
 ],
 "metadata": {
  "kernelspec": {
   "display_name": "base",
   "language": "python",
   "name": "python3"
  },
  "language_info": {
   "codemirror_mode": {
    "name": "ipython",
    "version": 3
   },
   "file_extension": ".py",
   "mimetype": "text/x-python",
   "name": "python",
   "nbconvert_exporter": "python",
   "pygments_lexer": "ipython3",
   "version": "3.12.7"
  }
 },
 "nbformat": 4,
 "nbformat_minor": 5
}
