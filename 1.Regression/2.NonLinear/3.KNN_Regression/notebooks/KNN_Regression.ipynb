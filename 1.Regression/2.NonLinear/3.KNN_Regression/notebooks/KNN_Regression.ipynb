{
 "cells": [
  {
   "cell_type": "markdown",
   "id": "7e36c1c5",
   "metadata": {},
   "source": [
    "<h2 style=\"text-align:center;\">K-Nearest Neighbors (KNN) Regression</h2>\n",
    "\n",
    "The **K-Nearest Neighbors (KNN)** algorithm is one of the simplest machine learning models.  \n",
    "It does not assume any functional relationship between the independent (X) and dependent (y) variables,  \n",
    "making it a **non-parametric** and **instance-based learning** method.  \n",
    "\n",
    "In KNN Regression:  \n",
    "- The prediction for a new data point is based on the **average of the target values of its k nearest neighbors**.  \n",
    "- The closeness (nearness) is determined using **distance metrics** (commonly Euclidean).  \n",
    "- Instead of fitting a line (like Linear Regression) or a curve (like Polynomial Regression),  \n",
    "  KNN relies on the **distribution of data points**.\n"
   ]
  },
  {
   "cell_type": "markdown",
   "id": "afe4d43a",
   "metadata": {},
   "source": [
    "<h3>📌 Key Concepts of KNN Regression</h3>\n",
    "\n",
    "1. **Distance Metric**  \n",
    "   - Determines which points are considered “neighbors”.  \n",
    "   - Common: Euclidean Distance.  \n",
    "\n",
    "2. **Number of Neighbors (k)**  \n",
    "   - Small `k` → Model is very flexible but may overfit (too noisy).  \n",
    "   - Large `k` → Model is smoother but may underfit.  \n",
    "\n",
    "3. **Weights**  \n",
    "   - `uniform`: All neighbors have equal influence.  \n",
    "   - `distance`: Closer neighbors have more influence.  \n",
    "\n",
    "4. **Feature Scaling**  \n",
    "   - Since KNN relies on distances, features must be scaled (Standardization or MinMax).  \n",
    "\n",
    "5. **Advantages**  \n",
    "   - Simple, intuitive, no training assumptions.  \n",
    "   - Works well with small datasets.  \n",
    "\n",
    "6. **Disadvantages**  \n",
    "   - Computationally expensive on large datasets.  \n",
    "   - Sensitive to irrelevant features & scaling.  \n"
   ]
  },
  {
   "cell_type": "markdown",
   "id": "c37cb32f",
   "metadata": {},
   "source": [
    "## 3. Practical Implementation — KNN Regression\n",
    "\n",
    "In this section we will:\n",
    "1. Import required libraries and load the dataset.  \n",
    "2. Scale features (important for distance-based models).  \n",
    "3. Train KNN regressor and make a prediction.  \n",
    "4. Evaluate model performance (R²).  \n",
    "5. Visualize predictions vs actuals.  \n",
    "6. Save the trained model + scalers to a single `.pkl` bundle for deployment.\n"
   ]
  },
  {
   "cell_type": "code",
   "execution_count": 4,
   "id": "b38a58c4",
   "metadata": {},
   "outputs": [
    {
     "data": {
      "text/html": [
       "<div>\n",
       "<style scoped>\n",
       "    .dataframe tbody tr th:only-of-type {\n",
       "        vertical-align: middle;\n",
       "    }\n",
       "\n",
       "    .dataframe tbody tr th {\n",
       "        vertical-align: top;\n",
       "    }\n",
       "\n",
       "    .dataframe thead th {\n",
       "        text-align: right;\n",
       "    }\n",
       "</style>\n",
       "<table border=\"1\" class=\"dataframe\">\n",
       "  <thead>\n",
       "    <tr style=\"text-align: right;\">\n",
       "      <th></th>\n",
       "      <th>Position</th>\n",
       "      <th>Level</th>\n",
       "      <th>Salary</th>\n",
       "    </tr>\n",
       "  </thead>\n",
       "  <tbody>\n",
       "    <tr>\n",
       "      <th>0</th>\n",
       "      <td>Jr Software Engineer</td>\n",
       "      <td>1</td>\n",
       "      <td>45000</td>\n",
       "    </tr>\n",
       "    <tr>\n",
       "      <th>1</th>\n",
       "      <td>Sr Software Engineer</td>\n",
       "      <td>2</td>\n",
       "      <td>50000</td>\n",
       "    </tr>\n",
       "    <tr>\n",
       "      <th>2</th>\n",
       "      <td>Team Lead</td>\n",
       "      <td>3</td>\n",
       "      <td>60000</td>\n",
       "    </tr>\n",
       "    <tr>\n",
       "      <th>3</th>\n",
       "      <td>Manager</td>\n",
       "      <td>4</td>\n",
       "      <td>80000</td>\n",
       "    </tr>\n",
       "    <tr>\n",
       "      <th>4</th>\n",
       "      <td>Sr manager</td>\n",
       "      <td>5</td>\n",
       "      <td>110000</td>\n",
       "    </tr>\n",
       "  </tbody>\n",
       "</table>\n",
       "</div>"
      ],
      "text/plain": [
       "               Position  Level  Salary\n",
       "0  Jr Software Engineer      1   45000\n",
       "1  Sr Software Engineer      2   50000\n",
       "2             Team Lead      3   60000\n",
       "3               Manager      4   80000\n",
       "4            Sr manager      5  110000"
      ]
     },
     "execution_count": 4,
     "metadata": {},
     "output_type": "execute_result"
    }
   ],
   "source": [
    "# ---------------------------\n",
    "# 3.a Import libraries & load data\n",
    "# ---------------------------\n",
    "\n",
    "import numpy as np\n",
    "import pandas as pd\n",
    "import matplotlib.pyplot as plt\n",
    "\n",
    "from sklearn.preprocessing import StandardScaler\n",
    "from sklearn.neighbors import KNeighborsRegressor\n",
    "from sklearn.metrics import r2_score\n",
    "\n",
    "# Adjust path if your notebook is in a different folder\n",
    "df = pd.read_csv(\"../data/emp_sal.csv\")\n",
    "df.head()\n"
   ]
  },
  {
   "cell_type": "markdown",
   "id": "90120b47",
   "metadata": {},
   "source": [
    "### Notes\n",
    "- `X` is the **Position Level** (kept as 2D array for scikit-learn).  \n",
    "- `y` is **Salary** (1D array for training, but we will scale it as 2D).\n"
   ]
  },
  {
   "cell_type": "code",
   "execution_count": 5,
   "id": "c0b38e5f",
   "metadata": {},
   "outputs": [
    {
     "name": "stdout",
     "output_type": "stream",
     "text": [
      "X shape: (10, 1)\n",
      "y shape: (10,)\n"
     ]
    }
   ],
   "source": [
    "# ---------------------------\n",
    "# 3.b Prepare features and target\n",
    "# ---------------------------\n",
    "\n",
    "X = df.iloc[:, 1:2].values   # shape (n_samples, 1)\n",
    "y = df.iloc[:, 2].values     # shape (n_samples,)\n",
    "\n",
    "print(\"X shape:\", X.shape)\n",
    "print(\"y shape:\", y.shape)\n"
   ]
  },
  {
   "cell_type": "markdown",
   "id": "0338f1e7",
   "metadata": {},
   "source": [
    "### 3.c Feature scaling\n",
    "KNN relies on distances — always scale features. We will scale both `X` and `y`:\n",
    "- `scaler_X` for input features (Position Level)\n",
    "- `scaler_y` for target (Salary) — so predictions can be inverse-transformed back to original units\n"
   ]
  },
  {
   "cell_type": "code",
   "execution_count": 6,
   "id": "a908d8c8",
   "metadata": {},
   "outputs": [
    {
     "name": "stdout",
     "output_type": "stream",
     "text": [
      "X_scaled mean/var: -6.661338147750939e-17 1.0\n",
      "y_scaled mean/var: -4.4408920985006264e-17 0.9999999999999998\n"
     ]
    }
   ],
   "source": [
    "# ---------------------------\n",
    "# Scale X and y\n",
    "# ---------------------------\n",
    "scaler_X = StandardScaler()\n",
    "scaler_y = StandardScaler()\n",
    "\n",
    "X_scaled = scaler_X.fit_transform(X)                 # shape (n_samples, 1)\n",
    "y_scaled = scaler_y.fit_transform(y.reshape(-1,1)).ravel()  # shape (n_samples,)\n",
    "\n",
    "# quick sanity check\n",
    "print(\"X_scaled mean/var:\", X_scaled.mean(), X_scaled.std())\n",
    "print(\"y_scaled mean/var:\", y_scaled.mean(), np.std(y_scaled))\n"
   ]
  },
  {
   "cell_type": "markdown",
   "id": "1c9d1ce7",
   "metadata": {},
   "source": [
    "### 3.d Train KNN Regression\n",
    "We train a KNN regressor with a default `k=3` (you can tune `k` later).\n",
    "- `weights='uniform'` treats all neighbors equally.\n"
   ]
  },
  {
   "cell_type": "code",
   "execution_count": 7,
   "id": "9216b0e4",
   "metadata": {},
   "outputs": [
    {
     "name": "stdout",
     "output_type": "stream",
     "text": [
      "KNN model trained (k=3)\n"
     ]
    }
   ],
   "source": [
    "# ---------------------------\n",
    "# Train KNN model\n",
    "# ---------------------------\n",
    "k = 3\n",
    "knn_model = KNeighborsRegressor(n_neighbors=k, weights=\"uniform\")\n",
    "knn_model.fit(X_scaled, y_scaled)\n",
    "\n",
    "print(f\"KNN model trained (k={k})\")\n"
   ]
  },
  {
   "cell_type": "markdown",
   "id": "45623cbf",
   "metadata": {},
   "source": [
    "### 3.e Single prediction (example)\n",
    "Predict salary for **Position Level = 6.5**:\n",
    "- scale the input (use `scaler_X.transform`)\n",
    "- predict on scaled input\n",
    "- inverse-transform the predicted scaled target back to original salary scale\n"
   ]
  },
  {
   "cell_type": "code",
   "execution_count": 8,
   "id": "0b01c0cd",
   "metadata": {},
   "outputs": [
    {
     "name": "stdout",
     "output_type": "stream",
     "text": [
      "KNN Prediction for level 6.5: 216,666.67\n"
     ]
    }
   ],
   "source": [
    "# ---------------------------\n",
    "# Predict for position level = 6.5\n",
    "# ---------------------------\n",
    "test_level = 6.5\n",
    "X_test_scaled = scaler_X.transform(np.array([[test_level]]))     # shape (1,1)\n",
    "y_test_pred_scaled = knn_model.predict(X_test_scaled)            # shape (1,)\n",
    "y_test_pred = scaler_y.inverse_transform(y_test_pred_scaled.reshape(-1,1))  # shape (1,1)\n",
    "\n",
    "print(f\"KNN Prediction for level {test_level}: {y_test_pred[0,0]:,.2f}\")\n"
   ]
  },
  {
   "cell_type": "markdown",
   "id": "adf807fe",
   "metadata": {},
   "source": [
    "### 3.f Model evaluation (R²)\n",
    "We compute R² on the training set (since the dataset is small).  \n",
    "Note: For real projects, use train/test or cross-validation.\n"
   ]
  },
  {
   "cell_type": "code",
   "execution_count": 10,
   "id": "a618ce23",
   "metadata": {},
   "outputs": [
    {
     "name": "stdout",
     "output_type": "stream",
     "text": [
      "KNN Model R² (train): 0.7874\n"
     ]
    }
   ],
   "source": [
    "# ---------------------------\n",
    "# Evaluate model on training data\n",
    "# ---------------------------\n",
    "y_train_pred_scaled = knn_model.predict(X_scaled)                 # scaled predictions\n",
    "y_train_pred = scaler_y.inverse_transform(y_train_pred_scaled.reshape(-1,1))\n",
    "\n",
    "r2 = r2_score(y, y_train_pred)\n",
    "print(f\"KNN Model R² (train): {r2:.4f}\")\n"
   ]
  },
  {
   "cell_type": "markdown",
   "id": "bebcd40b",
   "metadata": {},
   "source": [
    "### 3.g Visualization — actual vs predicted\n",
    "Plot the original data (scatter) and model predictions (sorted by X for a smooth curve).\n"
   ]
  },
  {
   "cell_type": "code",
   "execution_count": 11,
   "id": "4f08d566",
   "metadata": {},
   "outputs": [
    {
     "data": {
      "image/png": "[encoded data removed]",
      "text/plain": [
       "<Figure size 800x500 with 1 Axes>"
      ]
     },
     "metadata": {},
     "output_type": "display_data"
    }
   ],
   "source": [
    "# ---------------------------\n",
    "# Visualization\n",
    "# ---------------------------\n",
    "# Create smooth curve by using sorted X values\n",
    "X_grid = np.linspace(X.min(), X.max(), 200).reshape(-1,1)\n",
    "X_grid_scaled = scaler_X.transform(X_grid)\n",
    "y_grid_pred_scaled = knn_model.predict(X_grid_scaled)\n",
    "y_grid_pred = scaler_y.inverse_transform(y_grid_pred_scaled.reshape(-1,1))\n",
    "\n",
    "plt.figure(figsize=(8,5))\n",
    "plt.scatter(X, y, color='red', label='Actual data')\n",
    "plt.plot(X_grid, y_grid_pred, color='blue', label=f'KNN predictions (k={k})')\n",
    "plt.scatter(test_level, y_test_pred, color='green', s=100, label=f'Prediction @ {test_level}')\n",
    "plt.xlabel('Position Level')\n",
    "plt.ylabel('Salary')\n",
    "plt.title('KNN Regression (k={})'.format(k))\n",
    "plt.legend()\n",
    "plt.show()\n"
   ]
  },
  {
   "cell_type": "markdown",
   "id": "9b8c8728",
   "metadata": {},
   "source": [
    "### 3.h Optional: quick `k`-tuning table\n",
    "Try several `k` values and observe R². This is a simple grid search to pick a reasonable `k`.\n"
   ]
  },
  {
   "cell_type": "code",
   "execution_count": 12,
   "id": "7c77c887",
   "metadata": {},
   "outputs": [
    {
     "data": {
      "text/html": [
       "<div>\n",
       "<style scoped>\n",
       "    .dataframe tbody tr th:only-of-type {\n",
       "        vertical-align: middle;\n",
       "    }\n",
       "\n",
       "    .dataframe tbody tr th {\n",
       "        vertical-align: top;\n",
       "    }\n",
       "\n",
       "    .dataframe thead th {\n",
       "        text-align: right;\n",
       "    }\n",
       "</style>\n",
       "<table border=\"1\" class=\"dataframe\">\n",
       "  <thead>\n",
       "    <tr style=\"text-align: right;\">\n",
       "      <th></th>\n",
       "      <th>k</th>\n",
       "      <th>r2</th>\n",
       "    </tr>\n",
       "  </thead>\n",
       "  <tbody>\n",
       "    <tr>\n",
       "      <th>0</th>\n",
       "      <td>1</td>\n",
       "      <td>1.000000</td>\n",
       "    </tr>\n",
       "    <tr>\n",
       "      <th>1</th>\n",
       "      <td>2</td>\n",
       "      <td>0.895544</td>\n",
       "    </tr>\n",
       "    <tr>\n",
       "      <th>2</th>\n",
       "      <td>3</td>\n",
       "      <td>0.787409</td>\n",
       "    </tr>\n",
       "    <tr>\n",
       "      <th>3</th>\n",
       "      <td>4</td>\n",
       "      <td>0.679615</td>\n",
       "    </tr>\n",
       "    <tr>\n",
       "      <th>4</th>\n",
       "      <td>5</td>\n",
       "      <td>0.564919</td>\n",
       "    </tr>\n",
       "    <tr>\n",
       "      <th>5</th>\n",
       "      <td>6</td>\n",
       "      <td>0.487796</td>\n",
       "    </tr>\n",
       "    <tr>\n",
       "      <th>6</th>\n",
       "      <td>7</td>\n",
       "      <td>0.379763</td>\n",
       "    </tr>\n",
       "    <tr>\n",
       "      <th>7</th>\n",
       "      <td>8</td>\n",
       "      <td>0.300790</td>\n",
       "    </tr>\n",
       "    <tr>\n",
       "      <th>8</th>\n",
       "      <td>9</td>\n",
       "      <td>0.191143</td>\n",
       "    </tr>\n",
       "    <tr>\n",
       "      <th>9</th>\n",
       "      <td>10</td>\n",
       "      <td>0.000000</td>\n",
       "    </tr>\n",
       "  </tbody>\n",
       "</table>\n",
       "</div>"
      ],
      "text/plain": [
       "    k        r2\n",
       "0   1  1.000000\n",
       "1   2  0.895544\n",
       "2   3  0.787409\n",
       "3   4  0.679615\n",
       "4   5  0.564919\n",
       "5   6  0.487796\n",
       "6   7  0.379763\n",
       "7   8  0.300790\n",
       "8   9  0.191143\n",
       "9  10  0.000000"
      ]
     },
     "execution_count": 12,
     "metadata": {},
     "output_type": "execute_result"
    }
   ],
   "source": [
    "# ---------------------------\n",
    "# Optional: Evaluate R² for a range of k values\n",
    "# ---------------------------\n",
    "results = []\n",
    "for k_try in range(1, 11):\n",
    "    model_k = KNeighborsRegressor(n_neighbors=k_try, weights=\"uniform\")\n",
    "    model_k.fit(X_scaled, y_scaled)\n",
    "    y_k_scaled = model_k.predict(X_scaled)\n",
    "    y_k = scaler_y.inverse_transform(y_k_scaled.reshape(-1,1))\n",
    "    r2_k = r2_score(y, y_k)\n",
    "    results.append((k_try, r2_k))\n",
    "\n",
    "results_df = pd.DataFrame(results, columns=['k', 'r2'])\n",
    "results_df\n"
   ]
  },
  {
   "cell_type": "markdown",
   "id": "964b033f",
   "metadata": {},
   "source": [
    "### 3.i Save the model + scalers to a single `.pkl` bundle\n",
    "This lets the Streamlit app load one file and do prediction correctly.\n"
   ]
  },
  {
   "cell_type": "code",
   "execution_count": 13,
   "id": "99c1055c",
   "metadata": {},
   "outputs": [
    {
     "name": "stdout",
     "output_type": "stream",
     "text": [
      "✅ Saved knn_model.pkl in ../models/\n"
     ]
    }
   ],
   "source": [
    "# ---------------------------\n",
    "# Save model bundle as pickle\n",
    "# ---------------------------\n",
    "import pickle, os\n",
    "os.makedirs(\"../models\", exist_ok=True)\n",
    "\n",
    "model_bundle = {\n",
    "    \"scaler_X\": scaler_X,\n",
    "    \"scaler_y\": scaler_y,\n",
    "    \"knn_model\": knn_model\n",
    "}\n",
    "\n",
    "with open(\"../models/knn_model.pkl\", \"wb\") as f:\n",
    "    pickle.dump(model_bundle, f)\n",
    "\n",
    "print(\"✅ Saved knn_model.pkl in ../models/\")\n"
   ]
  }
 ],
 "metadata": {
  "kernelspec": {
   "display_name": "base",
   "language": "python",
   "name": "python3"
  },
  "language_info": {
   "codemirror_mode": {
    "name": "ipython",
    "version": 3
   },
   "file_extension": ".py",
   "mimetype": "text/x-python",
   "name": "python",
   "nbconvert_exporter": "python",
   "pygments_lexer": "ipython3",
   "version": "3.12.7"
  }
 },
 "nbformat": 4,
 "nbformat_minor": 5
}
