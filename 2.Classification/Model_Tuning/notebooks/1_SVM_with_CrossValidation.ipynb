{
 "cells": [
  {
   "cell_type": "markdown",
   "id": "dd72de20",
   "metadata": {},
   "source": [
    "<h2 style=\"text-align:center;\">Support Vector Machine with Cross Validation</h2>\n",
    "\n",
    "---\n",
    "\n",
    "## 🔹 Introduction\n",
    "\n",
    "Support Vector Machine (SVM) is a powerful classification algorithm that works well for linearly and non-linearly separable data.  \n",
    "However, if we only split data into training and testing once, the performance may depend too much on that split.  \n",
    "\n",
    "**Cross Validation (CV)** helps us overcome this problem by evaluating the model on multiple train-test splits and averaging the results.  \n",
    "This reduces variance and gives a more reliable estimate of model performance.\n",
    "\n",
    "In this notebook:\n",
    "1. Train a baseline SVM on Social_Network_Ads dataset.\n",
    "2. Apply k-Fold Cross Validation.\n",
    "3. Compare results (single split vs. CV).\n",
    "4. Conclude why CV is essential.\n"
   ]
  },
  {
   "cell_type": "code",
   "execution_count": 1,
   "id": "a0a5faae",
   "metadata": {},
   "outputs": [],
   "source": [
    "# 📌 Importing required libraries\n",
    "import numpy as np\n",
    "import pandas as pd\n",
    "import matplotlib.pyplot as plt\n",
    "\n",
    "from sklearn.model_selection import train_test_split, cross_val_score\n",
    "from sklearn.preprocessing import StandardScaler\n",
    "from sklearn.svm import SVC\n",
    "from sklearn.metrics import confusion_matrix, accuracy_score\n"
   ]
  },
  {
   "cell_type": "code",
   "execution_count": 2,
   "metadata": {},
   "outputs": [
    {
     "name": "stdout",
     "output_type": "stream",
     "text": [
      "Dataset shape: (400, 5)\n"
     ]
    },
    {
     "data": {
      "text/html": [
       "<div>\n",
       "<style scoped>\n",
       "    .dataframe tbody tr th:only-of-type {\n",
       "        vertical-align: middle;\n",
       "    }\n",
       "\n",
       "    .dataframe tbody tr th {\n",
       "        vertical-align: top;\n",
       "    }\n",
       "\n",
       "    .dataframe thead th {\n",
       "        text-align: right;\n",
       "    }\n",
       "</style>\n",
       "<table border=\"1\" class=\"dataframe\">\n",
       "  <thead>\n",
       "    <tr style=\"text-align: right;\">\n",
       "      <th></th>\n",
       "      <th>User ID</th>\n",
       "      <th>Gender</th>\n",
       "      <th>Age</th>\n",
       "      <th>EstimatedSalary</th>\n",
       "      <th>Purchased</th>\n",
       "    </tr>\n",
       "  </thead>\n",
       "  <tbody>\n",
       "    <tr>\n",
       "      <th>0</th>\n",
       "      <td>15624510</td>\n",
       "      <td>Male</td>\n",
       "      <td>19</td>\n",
       "      <td>19000</td>\n",
       "      <td>0</td>\n",
       "    </tr>\n",
       "    <tr>\n",
       "      <th>1</th>\n",
       "      <td>15810944</td>\n",
       "      <td>Male</td>\n",
       "      <td>35</td>\n",
       "      <td>20000</td>\n",
       "      <td>0</td>\n",
       "    </tr>\n",
       "    <tr>\n",
       "      <th>2</th>\n",
       "      <td>15668575</td>\n",
       "      <td>Female</td>\n",
       "      <td>26</td>\n",
       "      <td>43000</td>\n",
       "      <td>0</td>\n",
       "    </tr>\n",
       "    <tr>\n",
       "      <th>3</th>\n",
       "      <td>15603246</td>\n",
       "      <td>Female</td>\n",
       "      <td>27</td>\n",
       "      <td>57000</td>\n",
       "      <td>0</td>\n",
       "    </tr>\n",
       "    <tr>\n",
       "      <th>4</th>\n",
       "      <td>15804002</td>\n",
       "      <td>Male</td>\n",
       "      <td>19</td>\n",
       "      <td>76000</td>\n",
       "      <td>0</td>\n",
       "    </tr>\n",
       "  </tbody>\n",
       "</table>\n",
       "</div>"
      ],
      "text/plain": [
       "    User ID  Gender  Age  EstimatedSalary  Purchased\n",
       "0  15624510    Male   19            19000          0\n",
       "1  15810944    Male   35            20000          0\n",
       "2  15668575  Female   26            43000          0\n",
       "3  15603246  Female   27            57000          0\n",
       "4  15804002    Male   19            76000          0"
      ]
     },
     "execution_count": 2,
     "metadata": {},
     "output_type": "execute_result"
    }
   ],
   "source": [
    "# 📌 Load dataset\n",
    "dataset = pd.read_csv(\"../data/Social_Network_Ads.csv\")\n",
    "\n",
    "# Features (Age, EstimatedSalary) and Target (Purchased)\n",
    "X = dataset.iloc[:, 2:4].values\n",
    "y = dataset.iloc[:, -1].values\n",
    "\n",
    "print(\"Dataset shape:\", dataset.shape)   # ➤ (400, 5)\n",
    "dataset.head()                           # ➤ First 5 rows\n"
   ]
  },
  {
   "cell_type": "code",
   "execution_count": 3,
   "metadata": {},
   "outputs": [],
   "source": [
    "# 📌 Feature Scaling (important for SVM, as it is distance-based)\n",
    "scaler = StandardScaler()\n",
    "X = scaler.fit_transform(X)\n"
   ]
  },
  {
   "cell_type": "code",
   "execution_count": 4,
   "metadata": {},
   "outputs": [
    {
     "name": "stdout",
     "output_type": "stream",
     "text": [
      "Training set size: (300, 2)\n",
      "Test set size: (100, 2)\n"
     ]
    }
   ],
   "source": [
    "# 📌 Split dataset into Training and Test set\n",
    "X_train, X_test, y_train, y_test = train_test_split(\n",
    "    X, y, test_size=0.25, random_state=0\n",
    ")\n",
    "\n",
    "print(\"Training set size:\", X_train.shape)   # ➤ (300, 2)\n",
    "print(\"Test set size:\", X_test.shape)        # ➤ (100, 2)\n"
   ]
  },
  {
   "cell_type": "code",
   "execution_count": 5,
   "metadata": {},
   "outputs": [
    {
     "name": "stdout",
     "output_type": "stream",
     "text": [
      "Confusion Matrix:\n",
      " [[64  4]\n",
      " [ 3 29]]\n",
      "Accuracy (Single Train/Test split): 0.93\n"
     ]
    }
   ],
   "source": [
    "# 📌 Train a baseline SVM model\n",
    "classifier = SVC(kernel=\"rbf\", random_state=0)\n",
    "classifier.fit(X_train, y_train)\n",
    "\n",
    "# Predictions on Test set\n",
    "y_pred = classifier.predict(X_test)\n",
    "\n",
    "# Confusion Matrix and Accuracy\n",
    "cm = confusion_matrix(y_test, y_pred)\n",
    "acc = accuracy_score(y_test, y_pred)\n",
    "\n",
    "print(\"Confusion Matrix:\\n\", cm)\n",
    "print(\"Accuracy (Single Train/Test split):\", acc)   # ➤ Accuracy example: 0.93\n"
   ]
  },
  {
   "cell_type": "code",
   "execution_count": 6,
   "id": "242d6c7c",
   "metadata": {},
   "outputs": [
    {
     "name": "stdout",
     "output_type": "stream",
     "text": [
      "Cross-Validation Accuracies: [0.8        0.96666667 0.8        0.96666667 0.86666667 0.83333333\n",
      " 0.9        0.93333333 1.         0.93333333]\n",
      "Mean Accuracy: 90.00 %\n",
      "Standard Deviation: 6.83 %\n"
     ]
    }
   ],
   "source": [
    "# 📌 Apply k-Fold Cross Validation\n",
    "accuracies = cross_val_score(\n",
    "    estimator=classifier, X=X_train, y=y_train, cv=10\n",
    ")\n",
    "\n",
    "print(\"Cross-Validation Accuracies:\", accuracies)           # ➤ List of accuracies\n",
    "print(\"Mean Accuracy: {:.2f} %\".format(accuracies.mean()*100))   # ➤ Avg CV accuracy\n",
    "print(\"Standard Deviation: {:.2f} %\".format(accuracies.std()*100))   # ➤ Variance\n"
   ]
  },
  {
   "cell_type": "markdown",
   "id": "9c8810dc",
   "metadata": {},
   "source": [
    "## 🔹 Summary\n",
    "\n",
    "- A single train/test split gave accuracy = **XX%**.\n",
    "- Using **10-Fold Cross Validation**, we got:\n",
    "  - Mean accuracy = **YY%**\n",
    "  - Standard deviation = **ZZ%**\n",
    "\n",
    "✅ Cross Validation provides a **more stable estimate** of model performance.  \n",
    "✅ It reduces dependency on one random split.  \n",
    "✅ It’s a standard practice before hyperparameter tuning (GridSearchCV / RandomSearchCV).  \n"
   ]
  }
 ],
 "metadata": {
  "kernelspec": {
   "display_name": "base",
   "language": "python",
   "name": "python3"
  },
  "language_info": {
   "codemirror_mode": {
    "name": "ipython",
    "version": 3
   },
   "file_extension": ".py",
   "mimetype": "text/x-python",
   "name": "python",
   "nbconvert_exporter": "python",
   "pygments_lexer": "ipython3",
   "version": "3.12.7"
  }
 },
 "nbformat": 4,
 "nbformat_minor": 5
}
