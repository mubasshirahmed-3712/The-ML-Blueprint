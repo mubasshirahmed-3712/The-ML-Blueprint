{
 "cells": [
  {
   "cell_type": "markdown",
   "id": "f2bc3282",
   "metadata": {},
   "source": [
    "<h2 style=\"text-align:center;\">Regularization in Linear Regression</h2>\n",
    "\n",
    "Regularization is a technique used in **Linear Regression** to prevent **overfitting** \n",
    "and improve model generalization by adding a penalty to large coefficients.\n",
    "\n",
    "- **Why Regularization?**  \n",
    "  - When we have many features, some coefficients become very large.  \n",
    "  - Large coefficients → Overfitting (model memorizes training data).  \n",
    "  - Regularization reduces coefficient values to control model complexity.  \n",
    "\n",
    "**Types of Regularization:**\n",
    "1. **Ridge Regression (L2 Regularization):**\n",
    "   - Adds penalty = sum of squared coefficients (L2 norm).  \n",
    "   - Shrinks coefficients towards zero but never exactly zero.  \n",
    "   - Helps when multicollinearity exists.  \n",
    "\n",
    "2. **Lasso Regression (L1 Regularization):**\n",
    "   - Adds penalty = sum of absolute coefficients (L1 norm).  \n",
    "   - Can shrink coefficients to **exactly zero** → acts as feature selection.  \n",
    "\n",
    "3. **ElasticNet (L1 + L2):**\n",
    "   - Combines both Ridge & Lasso.  \n",
    "   - Balances between coefficient shrinkage and feature elimination.  \n",
    "\n",
    "We will use the **Auto MPG dataset (`car-mpg.csv`)** to predict the car's **Miles Per Gallon (mpg)** using Ridge, Lasso, and ElasticNet regression.\n"
   ]
  },
  {
   "cell_type": "code",
   "execution_count": 1,
   "id": "15f61bc4",
   "metadata": {},
   "outputs": [],
   "source": [
    "#Import numerical libraries\n",
    "import pandas as pd\n",
    "import numpy as np\n",
    "\n",
    "#Import graphical plotting libraries\n",
    "import seaborn as sns\n",
    "import matplotlib.pyplot as plt\n",
    "%matplotlib inline\n",
    "\n",
    "#Import Linear Regression Machine Learning Libraries\n",
    "from sklearn import preprocessing\n",
    "from sklearn.preprocessing import PolynomialFeatures\n",
    "from sklearn.model_selection import train_test_split\n",
    "\n",
    "from sklearn.linear_model import LinearRegression, Ridge, Lasso\n",
    "from sklearn.metrics import r2_score"
   ]
  },
  {
   "cell_type": "markdown",
   "id": "492673cf",
   "metadata": {},
   "source": [
    "<h2 style=\"text-align:center;\">Dataset Overview</h2>\n",
    "\n",
    "We are using the **Car MPG Dataset (`car-mpg.csv`)**.  \n",
    "- The dataset contains information about cars such as **mpg (target), horsepower, weight, acceleration, displacement, model year, cylinders, origin** etc.  \n",
    "- Our goal is to **predict `mpg` (miles per gallon)** using multiple features.  \n",
    "\n",
    "We will:\n",
    "1. Load the dataset.\n",
    "2. Inspect first few rows.\n",
    "3. Check basic statistics & missing values.\n"
   ]
  },
  {
   "cell_type": "code",
   "execution_count": 2,
   "id": "10553a3a",
   "metadata": {},
   "outputs": [
    {
     "data": {
      "text/html": [
       "<div>\n",
       "<style scoped>\n",
       "    .dataframe tbody tr th:only-of-type {\n",
       "        vertical-align: middle;\n",
       "    }\n",
       "\n",
       "    .dataframe tbody tr th {\n",
       "        vertical-align: top;\n",
       "    }\n",
       "\n",
       "    .dataframe thead th {\n",
       "        text-align: right;\n",
       "    }\n",
       "</style>\n",
       "<table border=\"1\" class=\"dataframe\">\n",
       "  <thead>\n",
       "    <tr style=\"text-align: right;\">\n",
       "      <th></th>\n",
       "      <th>mpg</th>\n",
       "      <th>cyl</th>\n",
       "      <th>disp</th>\n",
       "      <th>hp</th>\n",
       "      <th>wt</th>\n",
       "      <th>acc</th>\n",
       "      <th>yr</th>\n",
       "      <th>origin</th>\n",
       "      <th>car_type</th>\n",
       "      <th>car_name</th>\n",
       "    </tr>\n",
       "  </thead>\n",
       "  <tbody>\n",
       "    <tr>\n",
       "      <th>0</th>\n",
       "      <td>18.0</td>\n",
       "      <td>8</td>\n",
       "      <td>307.0</td>\n",
       "      <td>130</td>\n",
       "      <td>3504</td>\n",
       "      <td>12.0</td>\n",
       "      <td>70</td>\n",
       "      <td>1</td>\n",
       "      <td>0</td>\n",
       "      <td>chevrolet chevelle malibu</td>\n",
       "    </tr>\n",
       "    <tr>\n",
       "      <th>1</th>\n",
       "      <td>15.0</td>\n",
       "      <td>8</td>\n",
       "      <td>350.0</td>\n",
       "      <td>165</td>\n",
       "      <td>3693</td>\n",
       "      <td>11.5</td>\n",
       "      <td>70</td>\n",
       "      <td>1</td>\n",
       "      <td>0</td>\n",
       "      <td>buick skylark 320</td>\n",
       "    </tr>\n",
       "    <tr>\n",
       "      <th>2</th>\n",
       "      <td>18.0</td>\n",
       "      <td>8</td>\n",
       "      <td>318.0</td>\n",
       "      <td>150</td>\n",
       "      <td>3436</td>\n",
       "      <td>11.0</td>\n",
       "      <td>70</td>\n",
       "      <td>1</td>\n",
       "      <td>0</td>\n",
       "      <td>plymouth satellite</td>\n",
       "    </tr>\n",
       "    <tr>\n",
       "      <th>3</th>\n",
       "      <td>16.0</td>\n",
       "      <td>8</td>\n",
       "      <td>304.0</td>\n",
       "      <td>150</td>\n",
       "      <td>3433</td>\n",
       "      <td>12.0</td>\n",
       "      <td>70</td>\n",
       "      <td>1</td>\n",
       "      <td>0</td>\n",
       "      <td>amc rebel sst</td>\n",
       "    </tr>\n",
       "    <tr>\n",
       "      <th>4</th>\n",
       "      <td>17.0</td>\n",
       "      <td>8</td>\n",
       "      <td>302.0</td>\n",
       "      <td>140</td>\n",
       "      <td>3449</td>\n",
       "      <td>10.5</td>\n",
       "      <td>70</td>\n",
       "      <td>1</td>\n",
       "      <td>0</td>\n",
       "      <td>ford torino</td>\n",
       "    </tr>\n",
       "  </tbody>\n",
       "</table>\n",
       "</div>"
      ],
      "text/plain": [
       "    mpg  cyl   disp   hp    wt   acc  yr  origin  car_type  \\\n",
       "0  18.0    8  307.0  130  3504  12.0  70       1         0   \n",
       "1  15.0    8  350.0  165  3693  11.5  70       1         0   \n",
       "2  18.0    8  318.0  150  3436  11.0  70       1         0   \n",
       "3  16.0    8  304.0  150  3433  12.0  70       1         0   \n",
       "4  17.0    8  302.0  140  3449  10.5  70       1         0   \n",
       "\n",
       "                    car_name  \n",
       "0  chevrolet chevelle malibu  \n",
       "1          buick skylark 320  \n",
       "2         plymouth satellite  \n",
       "3              amc rebel sst  \n",
       "4                ford torino  "
      ]
     },
     "execution_count": 2,
     "metadata": {},
     "output_type": "execute_result"
    }
   ],
   "source": [
    "# Load dataset\n",
    "data = pd.read_csv(\"../data/car-mpg.csv\")\n",
    "\n",
    "# Preview the first 5 rows\n",
    "data.head()  # ➤ shows first rows\n"
   ]
  },
  {
   "cell_type": "code",
   "execution_count": 3,
   "id": "2e50d015",
   "metadata": {},
   "outputs": [
    {
     "name": "stdout",
     "output_type": "stream",
     "text": [
      "<class 'pandas.core.frame.DataFrame'>\n",
      "RangeIndex: 398 entries, 0 to 397\n",
      "Data columns (total 10 columns):\n",
      " #   Column    Non-Null Count  Dtype  \n",
      "---  ------    --------------  -----  \n",
      " 0   mpg       398 non-null    float64\n",
      " 1   cyl       398 non-null    int64  \n",
      " 2   disp      398 non-null    float64\n",
      " 3   hp        398 non-null    object \n",
      " 4   wt        398 non-null    int64  \n",
      " 5   acc       398 non-null    float64\n",
      " 6   yr        398 non-null    int64  \n",
      " 7   origin    398 non-null    int64  \n",
      " 8   car_type  398 non-null    int64  \n",
      " 9   car_name  398 non-null    object \n",
      "dtypes: float64(3), int64(5), object(2)\n",
      "memory usage: 31.2+ KB\n"
     ]
    }
   ],
   "source": [
    "# Dataset info\n",
    "data.info()  # ➤ check datatypes and missing values\n"
   ]
  },
  {
   "cell_type": "code",
   "execution_count": 4,
   "id": "f2c58368",
   "metadata": {},
   "outputs": [
    {
     "data": {
      "text/html": [
       "<div>\n",
       "<style scoped>\n",
       "    .dataframe tbody tr th:only-of-type {\n",
       "        vertical-align: middle;\n",
       "    }\n",
       "\n",
       "    .dataframe tbody tr th {\n",
       "        vertical-align: top;\n",
       "    }\n",
       "\n",
       "    .dataframe thead th {\n",
       "        text-align: right;\n",
       "    }\n",
       "</style>\n",
       "<table border=\"1\" class=\"dataframe\">\n",
       "  <thead>\n",
       "    <tr style=\"text-align: right;\">\n",
       "      <th></th>\n",
       "      <th>mpg</th>\n",
       "      <th>cyl</th>\n",
       "      <th>disp</th>\n",
       "      <th>wt</th>\n",
       "      <th>acc</th>\n",
       "      <th>yr</th>\n",
       "      <th>origin</th>\n",
       "      <th>car_type</th>\n",
       "    </tr>\n",
       "  </thead>\n",
       "  <tbody>\n",
       "    <tr>\n",
       "      <th>count</th>\n",
       "      <td>398.000000</td>\n",
       "      <td>398.000000</td>\n",
       "      <td>398.000000</td>\n",
       "      <td>398.000000</td>\n",
       "      <td>398.000000</td>\n",
       "      <td>398.000000</td>\n",
       "      <td>398.000000</td>\n",
       "      <td>398.000000</td>\n",
       "    </tr>\n",
       "    <tr>\n",
       "      <th>mean</th>\n",
       "      <td>23.514573</td>\n",
       "      <td>5.454774</td>\n",
       "      <td>193.425879</td>\n",
       "      <td>2970.424623</td>\n",
       "      <td>15.568090</td>\n",
       "      <td>76.010050</td>\n",
       "      <td>1.572864</td>\n",
       "      <td>0.530151</td>\n",
       "    </tr>\n",
       "    <tr>\n",
       "      <th>std</th>\n",
       "      <td>7.815984</td>\n",
       "      <td>1.701004</td>\n",
       "      <td>104.269838</td>\n",
       "      <td>846.841774</td>\n",
       "      <td>2.757689</td>\n",
       "      <td>3.697627</td>\n",
       "      <td>0.802055</td>\n",
       "      <td>0.499718</td>\n",
       "    </tr>\n",
       "    <tr>\n",
       "      <th>min</th>\n",
       "      <td>9.000000</td>\n",
       "      <td>3.000000</td>\n",
       "      <td>68.000000</td>\n",
       "      <td>1613.000000</td>\n",
       "      <td>8.000000</td>\n",
       "      <td>70.000000</td>\n",
       "      <td>1.000000</td>\n",
       "      <td>0.000000</td>\n",
       "    </tr>\n",
       "    <tr>\n",
       "      <th>25%</th>\n",
       "      <td>17.500000</td>\n",
       "      <td>4.000000</td>\n",
       "      <td>104.250000</td>\n",
       "      <td>2223.750000</td>\n",
       "      <td>13.825000</td>\n",
       "      <td>73.000000</td>\n",
       "      <td>1.000000</td>\n",
       "      <td>0.000000</td>\n",
       "    </tr>\n",
       "    <tr>\n",
       "      <th>50%</th>\n",
       "      <td>23.000000</td>\n",
       "      <td>4.000000</td>\n",
       "      <td>148.500000</td>\n",
       "      <td>2803.500000</td>\n",
       "      <td>15.500000</td>\n",
       "      <td>76.000000</td>\n",
       "      <td>1.000000</td>\n",
       "      <td>1.000000</td>\n",
       "    </tr>\n",
       "    <tr>\n",
       "      <th>75%</th>\n",
       "      <td>29.000000</td>\n",
       "      <td>8.000000</td>\n",
       "      <td>262.000000</td>\n",
       "      <td>3608.000000</td>\n",
       "      <td>17.175000</td>\n",
       "      <td>79.000000</td>\n",
       "      <td>2.000000</td>\n",
       "      <td>1.000000</td>\n",
       "    </tr>\n",
       "    <tr>\n",
       "      <th>max</th>\n",
       "      <td>46.600000</td>\n",
       "      <td>8.000000</td>\n",
       "      <td>455.000000</td>\n",
       "      <td>5140.000000</td>\n",
       "      <td>24.800000</td>\n",
       "      <td>82.000000</td>\n",
       "      <td>3.000000</td>\n",
       "      <td>1.000000</td>\n",
       "    </tr>\n",
       "  </tbody>\n",
       "</table>\n",
       "</div>"
      ],
      "text/plain": [
       "              mpg         cyl        disp           wt         acc  \\\n",
       "count  398.000000  398.000000  398.000000   398.000000  398.000000   \n",
       "mean    23.514573    5.454774  193.425879  2970.424623   15.568090   \n",
       "std      7.815984    1.701004  104.269838   846.841774    2.757689   \n",
       "min      9.000000    3.000000   68.000000  1613.000000    8.000000   \n",
       "25%     17.500000    4.000000  104.250000  2223.750000   13.825000   \n",
       "50%     23.000000    4.000000  148.500000  2803.500000   15.500000   \n",
       "75%     29.000000    8.000000  262.000000  3608.000000   17.175000   \n",
       "max     46.600000    8.000000  455.000000  5140.000000   24.800000   \n",
       "\n",
       "               yr      origin    car_type  \n",
       "count  398.000000  398.000000  398.000000  \n",
       "mean    76.010050    1.572864    0.530151  \n",
       "std      3.697627    0.802055    0.499718  \n",
       "min     70.000000    1.000000    0.000000  \n",
       "25%     73.000000    1.000000    0.000000  \n",
       "50%     76.000000    1.000000    1.000000  \n",
       "75%     79.000000    2.000000    1.000000  \n",
       "max     82.000000    3.000000    1.000000  "
      ]
     },
     "execution_count": 4,
     "metadata": {},
     "output_type": "execute_result"
    }
   ],
   "source": [
    "# Summary statistics\n",
    "data.describe()  # ➤ check numeric column distributions\n"
   ]
  },
  {
   "cell_type": "code",
   "execution_count": 5,
   "id": "426f44cf",
   "metadata": {},
   "outputs": [
    {
     "data": {
      "text/plain": [
       "mpg         0\n",
       "cyl         0\n",
       "disp        0\n",
       "hp          0\n",
       "wt          0\n",
       "acc         0\n",
       "yr          0\n",
       "origin      0\n",
       "car_type    0\n",
       "car_name    0\n",
       "dtype: int64"
      ]
     },
     "execution_count": 5,
     "metadata": {},
     "output_type": "execute_result"
    }
   ],
   "source": [
    "# Check for missing values\n",
    "data.isnull().sum()  # ➤ count missing values in each column\n"
   ]
  },
  {
   "cell_type": "markdown",
   "id": "f7ccdc3c",
   "metadata": {},
   "source": [
    "<h2 style=\"text-align:center;\">Data Cleaning & Preprocessing</h2>\n",
    "\n",
    "Steps followed to clean the dataset:  \n",
    "\n",
    "1. **Drop Irrelevant Feature** → Removed `car_name` since it’s not useful for prediction.  \n",
    "2. **Replace Origin Codes** → Converted numerical `origin` (1,2,3) into categories (`america`, `europe`, `asia`).  \n",
    "3. **One-Hot Encoding** → Converted categorical `origin` into dummy variables.  \n",
    "4. **Handle Missing Values** → Replaced `?` with `NaN`, then filled missing values with **median** of each column.  \n"
   ]
  },
  {
   "cell_type": "code",
   "execution_count": 6,
   "id": "24c87d9c",
   "metadata": {},
   "outputs": [],
   "source": [
    "# Drop irrelevant column\n",
    "data = data.drop(['car_name'], axis=1)\n"
   ]
  },
  {
   "cell_type": "code",
   "execution_count": 7,
   "id": "facab025",
   "metadata": {},
   "outputs": [],
   "source": [
    "# Replace origin codes with categories\n",
    "data['origin'] = data['origin'].replace({1: 'america', 2: 'europe', 3: 'asia'})"
   ]
  },
  {
   "cell_type": "code",
   "execution_count": 8,
   "id": "3a14971a",
   "metadata": {},
   "outputs": [],
   "source": [
    "# One-hot encoding for origin\n",
    "data = pd.get_dummies(data, columns=['origin'])"
   ]
  },
  {
   "cell_type": "code",
   "execution_count": 9,
   "id": "3bb716ab",
   "metadata": {},
   "outputs": [
    {
     "name": "stderr",
     "output_type": "stream",
     "text": [
      "C:\\Users\\MUBASSHIR\\AppData\\Local\\Temp\\ipykernel_16684\\3113199128.py:5: FutureWarning: errors='ignore' is deprecated and will raise in a future version. Use to_numeric without passing `errors` and catch exceptions explicitly instead\n",
      "  data = data.apply(pd.to_numeric, errors='ignore')\n"
     ]
    },
    {
     "data": {
      "text/html": [
       "<div>\n",
       "<style scoped>\n",
       "    .dataframe tbody tr th:only-of-type {\n",
       "        vertical-align: middle;\n",
       "    }\n",
       "\n",
       "    .dataframe tbody tr th {\n",
       "        vertical-align: top;\n",
       "    }\n",
       "\n",
       "    .dataframe thead th {\n",
       "        text-align: right;\n",
       "    }\n",
       "</style>\n",
       "<table border=\"1\" class=\"dataframe\">\n",
       "  <thead>\n",
       "    <tr style=\"text-align: right;\">\n",
       "      <th></th>\n",
       "      <th>mpg</th>\n",
       "      <th>cyl</th>\n",
       "      <th>disp</th>\n",
       "      <th>hp</th>\n",
       "      <th>wt</th>\n",
       "      <th>acc</th>\n",
       "      <th>yr</th>\n",
       "      <th>car_type</th>\n",
       "      <th>origin_america</th>\n",
       "      <th>origin_asia</th>\n",
       "      <th>origin_europe</th>\n",
       "    </tr>\n",
       "  </thead>\n",
       "  <tbody>\n",
       "    <tr>\n",
       "      <th>0</th>\n",
       "      <td>18.0</td>\n",
       "      <td>8</td>\n",
       "      <td>307.0</td>\n",
       "      <td>130.0</td>\n",
       "      <td>3504</td>\n",
       "      <td>12.0</td>\n",
       "      <td>70</td>\n",
       "      <td>0</td>\n",
       "      <td>True</td>\n",
       "      <td>False</td>\n",
       "      <td>False</td>\n",
       "    </tr>\n",
       "    <tr>\n",
       "      <th>1</th>\n",
       "      <td>15.0</td>\n",
       "      <td>8</td>\n",
       "      <td>350.0</td>\n",
       "      <td>165.0</td>\n",
       "      <td>3693</td>\n",
       "      <td>11.5</td>\n",
       "      <td>70</td>\n",
       "      <td>0</td>\n",
       "      <td>True</td>\n",
       "      <td>False</td>\n",
       "      <td>False</td>\n",
       "    </tr>\n",
       "    <tr>\n",
       "      <th>2</th>\n",
       "      <td>18.0</td>\n",
       "      <td>8</td>\n",
       "      <td>318.0</td>\n",
       "      <td>150.0</td>\n",
       "      <td>3436</td>\n",
       "      <td>11.0</td>\n",
       "      <td>70</td>\n",
       "      <td>0</td>\n",
       "      <td>True</td>\n",
       "      <td>False</td>\n",
       "      <td>False</td>\n",
       "    </tr>\n",
       "    <tr>\n",
       "      <th>3</th>\n",
       "      <td>16.0</td>\n",
       "      <td>8</td>\n",
       "      <td>304.0</td>\n",
       "      <td>150.0</td>\n",
       "      <td>3433</td>\n",
       "      <td>12.0</td>\n",
       "      <td>70</td>\n",
       "      <td>0</td>\n",
       "      <td>True</td>\n",
       "      <td>False</td>\n",
       "      <td>False</td>\n",
       "    </tr>\n",
       "    <tr>\n",
       "      <th>4</th>\n",
       "      <td>17.0</td>\n",
       "      <td>8</td>\n",
       "      <td>302.0</td>\n",
       "      <td>140.0</td>\n",
       "      <td>3449</td>\n",
       "      <td>10.5</td>\n",
       "      <td>70</td>\n",
       "      <td>0</td>\n",
       "      <td>True</td>\n",
       "      <td>False</td>\n",
       "      <td>False</td>\n",
       "    </tr>\n",
       "  </tbody>\n",
       "</table>\n",
       "</div>"
      ],
      "text/plain": [
       "    mpg  cyl   disp     hp    wt   acc  yr  car_type  origin_america  \\\n",
       "0  18.0    8  307.0  130.0  3504  12.0  70         0            True   \n",
       "1  15.0    8  350.0  165.0  3693  11.5  70         0            True   \n",
       "2  18.0    8  318.0  150.0  3436  11.0  70         0            True   \n",
       "3  16.0    8  304.0  150.0  3433  12.0  70         0            True   \n",
       "4  17.0    8  302.0  140.0  3449  10.5  70         0            True   \n",
       "\n",
       "   origin_asia  origin_europe  \n",
       "0        False          False  \n",
       "1        False          False  \n",
       "2        False          False  \n",
       "3        False          False  \n",
       "4        False          False  "
      ]
     },
     "execution_count": 9,
     "metadata": {},
     "output_type": "execute_result"
    }
   ],
   "source": [
    "\n",
    "# Replace '?' with NaN\n",
    "data = data.replace('?', np.nan)\n",
    "\n",
    "# Convert all columns to numeric where possible\n",
    "data = data.apply(pd.to_numeric, errors='ignore')\n",
    "\n",
    "# Fill missing values with median for numeric columns only\n",
    "for col in data.columns:\n",
    "    if data[col].dtype != 'object':  # numeric columns only\n",
    "        data[col] = data[col].fillna(data[col].median())\n",
    "\n",
    "data.head()"
   ]
  },
  {
   "cell_type": "code",
   "execution_count": 10,
   "id": "e6185fdb",
   "metadata": {},
   "outputs": [],
   "source": [
    "\n",
    "# Fill missing values with median\n",
    "data = data.apply(lambda x: x.fillna(x.median()), axis=0)"
   ]
  },
  {
   "cell_type": "code",
   "execution_count": 11,
   "id": "0aabebb6",
   "metadata": {},
   "outputs": [
    {
     "data": {
      "text/html": [
       "<div>\n",
       "<style scoped>\n",
       "    .dataframe tbody tr th:only-of-type {\n",
       "        vertical-align: middle;\n",
       "    }\n",
       "\n",
       "    .dataframe tbody tr th {\n",
       "        vertical-align: top;\n",
       "    }\n",
       "\n",
       "    .dataframe thead th {\n",
       "        text-align: right;\n",
       "    }\n",
       "</style>\n",
       "<table border=\"1\" class=\"dataframe\">\n",
       "  <thead>\n",
       "    <tr style=\"text-align: right;\">\n",
       "      <th></th>\n",
       "      <th>mpg</th>\n",
       "      <th>cyl</th>\n",
       "      <th>disp</th>\n",
       "      <th>hp</th>\n",
       "      <th>wt</th>\n",
       "      <th>acc</th>\n",
       "      <th>yr</th>\n",
       "      <th>car_type</th>\n",
       "      <th>origin_america</th>\n",
       "      <th>origin_asia</th>\n",
       "      <th>origin_europe</th>\n",
       "    </tr>\n",
       "  </thead>\n",
       "  <tbody>\n",
       "    <tr>\n",
       "      <th>0</th>\n",
       "      <td>18.0</td>\n",
       "      <td>8</td>\n",
       "      <td>307.0</td>\n",
       "      <td>130.0</td>\n",
       "      <td>3504</td>\n",
       "      <td>12.0</td>\n",
       "      <td>70</td>\n",
       "      <td>0</td>\n",
       "      <td>True</td>\n",
       "      <td>False</td>\n",
       "      <td>False</td>\n",
       "    </tr>\n",
       "    <tr>\n",
       "      <th>1</th>\n",
       "      <td>15.0</td>\n",
       "      <td>8</td>\n",
       "      <td>350.0</td>\n",
       "      <td>165.0</td>\n",
       "      <td>3693</td>\n",
       "      <td>11.5</td>\n",
       "      <td>70</td>\n",
       "      <td>0</td>\n",
       "      <td>True</td>\n",
       "      <td>False</td>\n",
       "      <td>False</td>\n",
       "    </tr>\n",
       "    <tr>\n",
       "      <th>2</th>\n",
       "      <td>18.0</td>\n",
       "      <td>8</td>\n",
       "      <td>318.0</td>\n",
       "      <td>150.0</td>\n",
       "      <td>3436</td>\n",
       "      <td>11.0</td>\n",
       "      <td>70</td>\n",
       "      <td>0</td>\n",
       "      <td>True</td>\n",
       "      <td>False</td>\n",
       "      <td>False</td>\n",
       "    </tr>\n",
       "    <tr>\n",
       "      <th>3</th>\n",
       "      <td>16.0</td>\n",
       "      <td>8</td>\n",
       "      <td>304.0</td>\n",
       "      <td>150.0</td>\n",
       "      <td>3433</td>\n",
       "      <td>12.0</td>\n",
       "      <td>70</td>\n",
       "      <td>0</td>\n",
       "      <td>True</td>\n",
       "      <td>False</td>\n",
       "      <td>False</td>\n",
       "    </tr>\n",
       "    <tr>\n",
       "      <th>4</th>\n",
       "      <td>17.0</td>\n",
       "      <td>8</td>\n",
       "      <td>302.0</td>\n",
       "      <td>140.0</td>\n",
       "      <td>3449</td>\n",
       "      <td>10.5</td>\n",
       "      <td>70</td>\n",
       "      <td>0</td>\n",
       "      <td>True</td>\n",
       "      <td>False</td>\n",
       "      <td>False</td>\n",
       "    </tr>\n",
       "  </tbody>\n",
       "</table>\n",
       "</div>"
      ],
      "text/plain": [
       "    mpg  cyl   disp     hp    wt   acc  yr  car_type  origin_america  \\\n",
       "0  18.0    8  307.0  130.0  3504  12.0  70         0            True   \n",
       "1  15.0    8  350.0  165.0  3693  11.5  70         0            True   \n",
       "2  18.0    8  318.0  150.0  3436  11.0  70         0            True   \n",
       "3  16.0    8  304.0  150.0  3433  12.0  70         0            True   \n",
       "4  17.0    8  302.0  140.0  3449  10.5  70         0            True   \n",
       "\n",
       "   origin_asia  origin_europe  \n",
       "0        False          False  \n",
       "1        False          False  \n",
       "2        False          False  \n",
       "3        False          False  \n",
       "4        False          False  "
      ]
     },
     "execution_count": 11,
     "metadata": {},
     "output_type": "execute_result"
    }
   ],
   "source": [
    "data.head()"
   ]
  },
  {
   "cell_type": "markdown",
   "id": "072d5a2d",
   "metadata": {},
   "source": [
    "<h2 style=\"text-align:center;\">Train-Test Split and Scaling</h2>\n",
    "\n",
    "Now we separate the independent (X) and dependent (y) variables.  \n",
    "After that, we scale them so all features are on the same range.\n"
   ]
  },
  {
   "cell_type": "code",
   "execution_count": 12,
   "id": "4b20fc49",
   "metadata": {},
   "outputs": [
    {
     "data": {
      "text/plain": [
       "((278, 10), (278, 1))"
      ]
     },
     "execution_count": 12,
     "metadata": {},
     "output_type": "execute_result"
    }
   ],
   "source": [
    "\n",
    "# ➤ Splitting independent (X) and dependent (y) variables\n",
    "X = data.drop(['mpg'], axis=1)   # independent variables\n",
    "y = data[['mpg']]                # dependent variable\n",
    "\n",
    "# ➤ Scaling the data\n",
    "X_s = preprocessing.scale(X)   # scaling X\n",
    "X_s = pd.DataFrame(X_s, columns=X.columns)  # back to DataFrame for readability\n",
    "\n",
    "y_s = preprocessing.scale(y)   # scaling y\n",
    "y_s = pd.DataFrame(y_s, columns=y.columns)  # back to DataFrame\n",
    "\n",
    "# ➤ Splitting into train-test sets\n",
    "X_train, X_test, y_train, y_test = train_test_split(X_s, y_s, test_size=0.30, random_state=1)\n",
    "\n",
    "# ➤ Check the shape\n",
    "X_train.shape, y_train.shape"
   ]
  },
  {
   "cell_type": "markdown",
   "id": "0f5afc24",
   "metadata": {},
   "source": [
    "<h2 style=\"text-align:center;\">Linear Regression (Baseline Model)</h2>\n",
    "\n",
    "We first fit a simple linear regression model on the training data.  \n",
    "Then, we extract the **coefficients** (for each feature) and the **intercept** of the model.  \n"
   ]
  },
  {
   "cell_type": "code",
   "execution_count": 13,
   "id": "88a9fac1",
   "metadata": {},
   "outputs": [
    {
     "name": "stdout",
     "output_type": "stream",
     "text": [
      "The coefficient for cyl is 0.32861754506846\n",
      "The coefficient for disp is 0.3586663782203616\n",
      "The coefficient for hp is -0.23039082100182615\n",
      "The coefficient for wt is -0.7210216002465518\n",
      "The coefficient for acc is 0.020642511596224707\n",
      "The coefficient for yr is 0.37273683281912257\n",
      "The coefficient for car_type is 0.37717522653816454\n",
      "The coefficient for origin_america is -15582375391443.475\n",
      "The coefficient for origin_asia is -12842504957614.494\n",
      "The coefficient for origin_europe is -12258202649930.533\n",
      "The intercept is 0.020347392754016945\n"
     ]
    }
   ],
   "source": [
    "from sklearn.linear_model import LinearRegression\n",
    "\n",
    "# ➤ Initialize and fit the linear regression model\n",
    "regression_model = LinearRegression()\n",
    "regression_model.fit(X_train, y_train)\n",
    "\n",
    "# ➤ Print coefficients for each feature\n",
    "for idx, col_name in enumerate(X_train.columns):\n",
    "    print(f\"The coefficient for {col_name} is {regression_model.coef_[0][idx]}\")\n",
    "\n",
    "# ➤ Print intercept\n",
    "intercept = regression_model.intercept_[0]\n",
    "print(f\"The intercept is {intercept}\")\n"
   ]
  },
  {
   "cell_type": "markdown",
   "id": "8db8f779",
   "metadata": {},
   "source": [
    "<h2 style=\"text-align:center;\">Ridge Regression (L2 Regularization)</h2>\n",
    "\n",
    "Ridge regression applies an **L2 penalty** to shrink coefficients, helping to reduce multicollinearity and overfitting.  \n",
    "The penalty is controlled by the parameter **alpha (λ)**.  \n"
   ]
  },
  {
   "cell_type": "code",
   "execution_count": 14,
   "id": "2d3d8b28",
   "metadata": {},
   "outputs": [
    {
     "name": "stdout",
     "output_type": "stream",
     "text": [
      "Ridge model coefficients:\n",
      "The coefficient for cyl is 0.31649043447756986\n",
      "The coefficient for disp is 0.3132070679322369\n",
      "The coefficient for hp is -0.22876024884299925\n",
      "The coefficient for wt is -0.701094474769561\n",
      "The coefficient for acc is 0.012958509258978852\n",
      "The coefficient for yr is 0.3744735168408098\n",
      "The coefficient for car_type is 0.37725608152844553\n",
      "The coefficient for origin_america is -0.07423623526060674\n",
      "The coefficient for origin_asia is 0.04441038876926636\n",
      "The coefficient for origin_europe is 0.047840312668603696\n"
     ]
    }
   ],
   "source": [
    "from sklearn.linear_model import Ridge\n",
    "\n",
    "# ➤ Initialize Ridge model with alpha (penalty term)\n",
    "ridge_model = Ridge(alpha=0.3)\n",
    "\n",
    "# ➤ Fit the model on training data\n",
    "ridge_model.fit(X_train, y_train)\n",
    "\n",
    "# ➤ Print Ridge coefficients\n",
    "print(\"Ridge model coefficients:\")\n",
    "for idx, col_name in enumerate(X_train.columns):\n",
    "    print(f\"The coefficient for {col_name} is {ridge_model.coef_[0][idx]}\")\n"
   ]
  },
  {
   "cell_type": "markdown",
   "id": "429dcae6",
   "metadata": {},
   "source": [
    "<h2 style=\"text-align:center;\">Lasso Regression (L1 Regularization)</h2>\n",
    "\n",
    "Lasso regression applies an **L1 penalty** which not only shrinks coefficients but can also reduce some to zero.  \n",
    "This makes Lasso useful for **feature selection** in addition to reducing overfitting.  \n",
    "The penalty is controlled by the parameter **alpha (λ)**.  \n"
   ]
  },
  {
   "cell_type": "code",
   "execution_count": 15,
   "id": "8f2ec2af",
   "metadata": {},
   "outputs": [
    {
     "name": "stdout",
     "output_type": "stream",
     "text": [
      "Lasso model coefficients:\n",
      "The coefficient for cyl is -0.0\n",
      "The coefficient for disp is -0.0\n",
      "The coefficient for hp is -0.016902871020081155\n",
      "The coefficient for wt is -0.5189001294663317\n",
      "The coefficient for acc is 0.0\n",
      "The coefficient for yr is 0.28138240797526426\n",
      "The coefficient for car_type is 0.12784890489871115\n",
      "The coefficient for origin_america is -0.016426472621561987\n",
      "The coefficient for origin_asia is 0.0\n",
      "The coefficient for origin_europe is 0.0\n"
     ]
    }
   ],
   "source": [
    "from sklearn.linear_model import Lasso\n",
    "\n",
    "# ➤ Initialize Lasso model with alpha (penalty term)\n",
    "lasso_model = Lasso(alpha=0.1)\n",
    "\n",
    "# ➤ Fit the model on training data\n",
    "lasso_model.fit(X_train, y_train)\n",
    "\n",
    "# ➤ Print Lasso coefficients\n",
    "print(\"Lasso model coefficients:\")\n",
    "for idx, col_name in enumerate(X_train.columns):\n",
    "    print(f\"The coefficient for {col_name} is {lasso_model.coef_[idx]}\")\n"
   ]
  },
  {
   "cell_type": "markdown",
   "id": "65d02047",
   "metadata": {},
   "source": [
    "<h2 style=\"text-align:center;\">ElasticNet Regression (L1 + L2 Regularization)</h2>\n",
    "\n",
    "ElasticNet combines **Lasso (L1)** and **Ridge (L2)** penalties.  \n",
    "- From **L1**, it inherits the ability to shrink some coefficients to zero (**feature selection**).  \n",
    "- From **L2**, it inherits the ability to shrink large coefficients and reduce model complexity (**prevent overfitting**).  \n",
    "\n",
    "The penalty strength is controlled by **alpha (λ)**,  \n",
    "and the balance between L1 and L2 is controlled by **l1_ratio** (0 = only Ridge, 1 = only Lasso).\n"
   ]
  },
  {
   "cell_type": "code",
   "execution_count": 16,
   "id": "c778e7f1",
   "metadata": {},
   "outputs": [
    {
     "name": "stdout",
     "output_type": "stream",
     "text": [
      "ElasticNet model coefficients:\n",
      "The coefficient for cyl is -0.0\n",
      "The coefficient for disp is -0.0\n",
      "The coefficient for hp is -0.10219799061543995\n",
      "The coefficient for wt is -0.4142457377970827\n",
      "The coefficient for acc is 0.0\n",
      "The coefficient for yr is 0.2995246136415957\n",
      "The coefficient for car_type is 0.1612518762746751\n",
      "The coefficient for origin_america is -0.06481083412221576\n",
      "The coefficient for origin_asia is 0.0\n",
      "The coefficient for origin_europe is 0.0\n"
     ]
    }
   ],
   "source": [
    "from sklearn.linear_model import ElasticNet\n",
    "\n",
    "# ➤ Initialize ElasticNet model with alpha (penalty term) and l1_ratio\n",
    "elasticnet_model = ElasticNet(alpha=0.1, l1_ratio=0.5)\n",
    "\n",
    "# ➤ Fit the model on training data\n",
    "elasticnet_model.fit(X_train, y_train)\n",
    "\n",
    "# ➤ Print ElasticNet coefficients\n",
    "print(\"ElasticNet model coefficients:\")\n",
    "for idx, col_name in enumerate(X_train.columns):\n",
    "    print(f\"The coefficient for {col_name} is {elasticnet_model.coef_[idx]}\")\n"
   ]
  },
  {
   "cell_type": "markdown",
   "id": "6d7e98b7",
   "metadata": {},
   "source": [
    "<h2 style=\"text-align:center;\">Model Evaluation: Linear vs Regularization</h2>\n",
    "\n",
    "We now compare the performance of all four models using **Mean Squared Error (MSE)** \n",
    "and **R² Score** on the test dataset.\n"
   ]
  },
  {
   "cell_type": "code",
   "execution_count": 17,
   "id": "81f38626",
   "metadata": {},
   "outputs": [
    {
     "name": "stdout",
     "output_type": "stream",
     "text": [
      "Linear Regression -> MSE: 0.144, R²: 0.850\n",
      "Ridge Regression -> MSE: 0.142, R²: 0.852\n",
      "Lasso Regression -> MSE: 0.156, R²: 0.838\n",
      "Elastic Net Regression -> MSE: 0.145, R²: 0.849\n"
     ]
    }
   ],
   "source": [
    "# ➤ Evaluation of Linear, Ridge, Lasso, ElasticNet models\n",
    "\n",
    "from sklearn.metrics import mean_squared_error, r2_score\n",
    "\n",
    "# Predictions\n",
    "y_pred_linear = regression_model.predict(X_test).ravel()\n",
    "y_pred_ridge = ridge_model.predict(X_test).ravel()\n",
    "y_pred_lasso = lasso_model.predict(X_test).ravel()\n",
    "y_pred_elastic = elasticnet_model.predict(X_test).ravel()\n",
    "\n",
    "# Metrics function\n",
    "def evaluate_model(y_true, y_pred, model_name):\n",
    "    mse = mean_squared_error(y_true, y_pred)\n",
    "    r2 = r2_score(y_true, y_pred)\n",
    "    print(f\"{model_name} -> MSE: {mse:.3f}, R²: {r2:.3f}\")\n",
    "\n",
    "# Evaluate all\n",
    "evaluate_model(y_test, y_pred_linear, \"Linear Regression\")\n",
    "evaluate_model(y_test, y_pred_ridge, \"Ridge Regression\")\n",
    "evaluate_model(y_test, y_pred_lasso, \"Lasso Regression\")\n",
    "evaluate_model(y_test, y_pred_elastic, \"Elastic Net Regression\")\n"
   ]
  },
  {
   "cell_type": "markdown",
   "id": "8475e4a4",
   "metadata": {},
   "source": [
    "<h2 style=\"text-align:center;\">4. Model Parameter Tuning & Diagnostics</h2>\n"
   ]
  },
  {
   "cell_type": "code",
   "execution_count": 18,
   "id": "9b9aa0c0",
   "metadata": {},
   "outputs": [
    {
     "data": {
      "text/html": [
       "<div>\n",
       "<style scoped>\n",
       "    .dataframe tbody tr th:only-of-type {\n",
       "        vertical-align: middle;\n",
       "    }\n",
       "\n",
       "    .dataframe tbody tr th {\n",
       "        vertical-align: top;\n",
       "    }\n",
       "\n",
       "    .dataframe thead th {\n",
       "        text-align: right;\n",
       "    }\n",
       "</style>\n",
       "<table border=\"1\" class=\"dataframe\">\n",
       "  <thead>\n",
       "    <tr style=\"text-align: right;\">\n",
       "      <th></th>\n",
       "      <th>cyl</th>\n",
       "      <th>disp</th>\n",
       "      <th>hp</th>\n",
       "      <th>wt</th>\n",
       "      <th>acc</th>\n",
       "      <th>yr</th>\n",
       "      <th>car_type</th>\n",
       "      <th>origin_america</th>\n",
       "      <th>origin_asia</th>\n",
       "      <th>origin_europe</th>\n",
       "      <th>mpg</th>\n",
       "    </tr>\n",
       "  </thead>\n",
       "  <tbody>\n",
       "    <tr>\n",
       "      <th>350</th>\n",
       "      <td>-0.856321</td>\n",
       "      <td>-0.849116</td>\n",
       "      <td>-1.081977</td>\n",
       "      <td>-0.893172</td>\n",
       "      <td>-0.242570</td>\n",
       "      <td>1.351199</td>\n",
       "      <td>0.941412</td>\n",
       "      <td>0.773559</td>\n",
       "      <td>-0.497643</td>\n",
       "      <td>-0.461968</td>\n",
       "      <td>1.432898</td>\n",
       "    </tr>\n",
       "    <tr>\n",
       "      <th>59</th>\n",
       "      <td>-0.856321</td>\n",
       "      <td>-0.925936</td>\n",
       "      <td>-1.317736</td>\n",
       "      <td>-0.847061</td>\n",
       "      <td>2.879909</td>\n",
       "      <td>-1.085858</td>\n",
       "      <td>0.941412</td>\n",
       "      <td>-1.292726</td>\n",
       "      <td>-0.497643</td>\n",
       "      <td>2.164651</td>\n",
       "      <td>-0.065919</td>\n",
       "    </tr>\n",
       "    <tr>\n",
       "      <th>120</th>\n",
       "      <td>-0.856321</td>\n",
       "      <td>-0.695475</td>\n",
       "      <td>0.201600</td>\n",
       "      <td>-0.121101</td>\n",
       "      <td>-0.024722</td>\n",
       "      <td>-0.815074</td>\n",
       "      <td>0.941412</td>\n",
       "      <td>-1.292726</td>\n",
       "      <td>-0.497643</td>\n",
       "      <td>2.164651</td>\n",
       "      <td>-0.578335</td>\n",
       "    </tr>\n",
       "    <tr>\n",
       "      <th>12</th>\n",
       "      <td>1.498191</td>\n",
       "      <td>1.983643</td>\n",
       "      <td>1.197027</td>\n",
       "      <td>0.934732</td>\n",
       "      <td>-2.203196</td>\n",
       "      <td>-1.627426</td>\n",
       "      <td>-1.062235</td>\n",
       "      <td>0.773559</td>\n",
       "      <td>-0.497643</td>\n",
       "      <td>-0.461968</td>\n",
       "      <td>-1.090751</td>\n",
       "    </tr>\n",
       "    <tr>\n",
       "      <th>349</th>\n",
       "      <td>-0.856321</td>\n",
       "      <td>-0.983552</td>\n",
       "      <td>-0.951000</td>\n",
       "      <td>-1.165111</td>\n",
       "      <td>0.156817</td>\n",
       "      <td>1.351199</td>\n",
       "      <td>0.941412</td>\n",
       "      <td>-1.292726</td>\n",
       "      <td>2.009471</td>\n",
       "      <td>-0.461968</td>\n",
       "      <td>1.356035</td>\n",
       "    </tr>\n",
       "  </tbody>\n",
       "</table>\n",
       "</div>"
      ],
      "text/plain": [
       "          cyl      disp        hp        wt       acc        yr  car_type  \\\n",
       "350 -0.856321 -0.849116 -1.081977 -0.893172 -0.242570  1.351199  0.941412   \n",
       "59  -0.856321 -0.925936 -1.317736 -0.847061  2.879909 -1.085858  0.941412   \n",
       "120 -0.856321 -0.695475  0.201600 -0.121101 -0.024722 -0.815074  0.941412   \n",
       "12   1.498191  1.983643  1.197027  0.934732 -2.203196 -1.627426 -1.062235   \n",
       "349 -0.856321 -0.983552 -0.951000 -1.165111  0.156817  1.351199  0.941412   \n",
       "\n",
       "     origin_america  origin_asia  origin_europe       mpg  \n",
       "350        0.773559    -0.497643      -0.461968  1.432898  \n",
       "59        -1.292726    -0.497643       2.164651 -0.065919  \n",
       "120       -1.292726    -0.497643       2.164651 -0.578335  \n",
       "12         0.773559    -0.497643      -0.461968 -1.090751  \n",
       "349       -1.292726     2.009471      -0.461968  1.356035  "
      ]
     },
     "execution_count": 18,
     "metadata": {},
     "output_type": "execute_result"
    }
   ],
   "source": [
    "# ➤ Combine X_train and y_train for statsmodels (expects both in one DataFrame)\n",
    "data_train_test = pd.concat([X_train, y_train], axis=1)\n",
    "data_train_test.head()\n"
   ]
  },
  {
   "cell_type": "code",
   "execution_count": 19,
   "id": "8e16ac1c",
   "metadata": {},
   "outputs": [
    {
     "data": {
      "text/plain": [
       "Intercept         0.019284\n",
       "cyl               0.321022\n",
       "disp              0.324834\n",
       "hp               -0.229170\n",
       "wt               -0.711210\n",
       "acc               0.014714\n",
       "yr                0.375581\n",
       "car_type          0.381477\n",
       "origin_america   -0.074722\n",
       "origin_europe     0.048349\n",
       "origin_asia       0.044515\n",
       "dtype: float64"
      ]
     },
     "execution_count": 19,
     "metadata": {},
     "output_type": "execute_result"
    }
   ],
   "source": [
    "# ➤ Import statsmodels and build OLS model (Adjusted R², p-values etc.)\n",
    "import statsmodels.formula.api as smf\n",
    "\n",
    "ols1 = smf.ols(\n",
    "    formula='mpg ~ cyl + disp + hp + wt + acc + yr + car_type + origin_america + origin_europe + origin_asia',\n",
    "    data=data_train_test\n",
    ").fit()\n",
    "\n",
    "# ➤ View model coefficients\n",
    "ols1.params\n"
   ]
  },
  {
   "cell_type": "code",
   "execution_count": 20,
   "id": "d4a941c6",
   "metadata": {},
   "outputs": [
    {
     "name": "stdout",
     "output_type": "stream",
     "text": [
      "                            OLS Regression Results                            \n",
      "==============================================================================\n",
      "Dep. Variable:                    mpg   R-squared:                       0.834\n",
      "Model:                            OLS   Adj. R-squared:                  0.829\n",
      "Method:                 Least Squares   F-statistic:                     150.0\n",
      "Date:                Mon, 25 Aug 2025   Prob (F-statistic):           3.12e-99\n",
      "Time:                        18:09:35   Log-Likelihood:                -146.89\n",
      "No. Observations:                 278   AIC:                             313.8\n",
      "Df Residuals:                     268   BIC:                             350.1\n",
      "Df Model:                           9                                         \n",
      "Covariance Type:            nonrobust                                         \n",
      "==================================================================================\n",
      "                     coef    std err          t      P>|t|      [0.025      0.975]\n",
      "----------------------------------------------------------------------------------\n",
      "Intercept          0.0193      0.025      0.765      0.445      -0.030       0.069\n",
      "cyl                0.3210      0.112      2.856      0.005       0.100       0.542\n",
      "disp               0.3248      0.128      2.544      0.012       0.073       0.576\n",
      "hp                -0.2292      0.079     -2.915      0.004      -0.384      -0.074\n",
      "wt                -0.7112      0.088     -8.118      0.000      -0.884      -0.539\n",
      "acc                0.0147      0.039      0.373      0.709      -0.063       0.092\n",
      "yr                 0.3756      0.029     13.088      0.000       0.319       0.432\n",
      "car_type           0.3815      0.067      5.728      0.000       0.250       0.513\n",
      "origin_america    -0.0747      0.020     -3.723      0.000      -0.114      -0.035\n",
      "origin_europe      0.0483      0.021      2.270      0.024       0.006       0.090\n",
      "origin_asia        0.0445      0.020      2.175      0.031       0.004       0.085\n",
      "==============================================================================\n",
      "Omnibus:                       22.678   Durbin-Watson:                   2.105\n",
      "Prob(Omnibus):                  0.000   Jarque-Bera (JB):               36.139\n",
      "Skew:                           0.513   Prob(JB):                     1.42e-08\n",
      "Kurtosis:                       4.438   Cond. No.                     5.73e+15\n",
      "==============================================================================\n",
      "\n",
      "Notes:\n",
      "[1] Standard Errors assume that the covariance matrix of the errors is correctly specified.\n",
      "[2] The smallest eigenvalue is 4.76e-29. This might indicate that there are\n",
      "strong multicollinearity problems or that the design matrix is singular.\n"
     ]
    }
   ],
   "source": [
    "# ➤ Full model summary (includes R², Adjusted R², p-values, F-stat etc.)\n",
    "print(ols1.summary())\n"
   ]
  },
  {
   "cell_type": "code",
   "execution_count": 21,
   "id": "f818cd6d",
   "metadata": {},
   "outputs": [
    {
     "name": "stdout",
     "output_type": "stream",
     "text": [
      "Root Mean Squared Error (RMSE): 0.379\n"
     ]
    }
   ],
   "source": [
    "# ➤ Calculate Mean Squared Error (MSE) and Root Mean Squared Error (RMSE)\n",
    "y_pred = regression_model.predict(X_test).ravel()   # flatten predictions\n",
    "y_true = y_test.values.ravel()      \n",
    "# flatten actuals\n",
    "\n",
    "mse  = np.mean((y_pred - y_true) ** 2)\n",
    "\n",
    "import math\n",
    "rmse = math.sqrt(mse)\n",
    "print('Root Mean Squared Error (RMSE): {:.3f}'.format(rmse))\n"
   ]
  },
  {
   "cell_type": "code",
   "execution_count": 22,
   "id": "17cf014d",
   "metadata": {},
   "outputs": [
    {
     "data": {
      "image/png": "[encoded data removed]",
      "text/plain": [
       "<Figure size 1000x600 with 1 Axes>"
      ]
     },
     "metadata": {},
     "output_type": "display_data"
    },
    {
     "data": {
      "image/png": "[encoded data removed]",
      "text/plain": [
       "<Figure size 1000x600 with 1 Axes>"
      ]
     },
     "metadata": {},
     "output_type": "display_data"
    }
   ],
   "source": [
    "# ➤ Residual plots help check model assumptions\n",
    "fig = plt.figure(figsize=(10,6))\n",
    "sns.residplot(x=X_test['hp'], y=y_test['mpg'], color='green', lowess=True)\n",
    "plt.title(\"Residual Plot: hp vs mpg\")\n",
    "\n",
    "fig = plt.figure(figsize=(10,6))\n",
    "sns.residplot(x=X_test['acc'], y=y_test['mpg'], color='green', lowess=True)\n",
    "plt.title(\"Residual Plot: acc vs mpg\")\n",
    "plt.show()\n"
   ]
  },
  {
   "cell_type": "code",
   "execution_count": 23,
   "id": "4e8ea558",
   "metadata": {},
   "outputs": [
    {
     "data": {
      "image/png": "[encoded data removed]",
      "text/plain": [
       "<Figure size 600x300 with 1 Axes>"
      ]
     },
     "metadata": {},
     "output_type": "display_data"
    }
   ],
   "source": [
    "# ➤ Compare predicted vs actual mpg for test data\n",
    "y_pred = regression_model.predict(X_test).ravel()\n",
    "\n",
    "plt.figure(figsize=(6,3))\n",
    "plt.scatter(y_test['mpg'], y_pred, alpha=0.6)\n",
    "plt.xlabel(\"Actual MPG\")\n",
    "plt.ylabel(\"Predicted MPG\")\n",
    "plt.title(\"Actual vs Predicted MPG (Linear Regression)\")\n",
    "plt.show()\n"
   ]
  },
  {
   "cell_type": "markdown",
   "id": "05e679d6",
   "metadata": {},
   "source": [
    "<h2 style=\"text-align:center;\">5. Inference</h2>\n"
   ]
  },
  {
   "cell_type": "markdown",
   "id": "bf5343b2",
   "metadata": {},
   "source": [
    "- **Both Ridge & Lasso** regularization perform very well on this dataset.  \n",
    "- Ridge regression shows a **slightly better performance** compared to Lasso.  \n",
    "- The scatter plot of **Actual vs Predicted MPG** demonstrates a strong positive correlation —  \n",
    "  predictions are close to actual values.  \n",
    "- RMSE value indicates that the model’s average prediction error is quite low.  \n",
    "- Adjusted R² from the OLS summary confirms that the model explains a significant proportion of variance  \n",
    "  in `mpg` without overfitting.  \n",
    "- Residual plots show no major deviations, validating model assumptions (linearity & homoscedasticity).  \n",
    "\n",
    "✅ **Conclusion:**  \n",
    "This regression pipeline (Linear + Ridge + Lasso + ElasticNet) provides reliable predictions of car mileage (`mpg`).  \n",
    "Among them, **Ridge regression** emerges as the most stable model for this dataset.\n"
   ]
  },
  {
   "cell_type": "code",
   "execution_count": 25,
   "id": "2976de8c",
   "metadata": {},
   "outputs": [
    {
     "name": "stdout",
     "output_type": "stream",
     "text": [
      "✅ All models (with scaler) saved to all_regression_models.pkl\n"
     ]
    }
   ],
   "source": [
    "# --- Save all models as pipelines (with scaler) ---\n",
    "import pickle\n",
    "from sklearn.pipeline import make_pipeline\n",
    "from sklearn.preprocessing import StandardScaler\n",
    "\n",
    "models = {\n",
    "    \"Linear Regression\": make_pipeline(StandardScaler(), LinearRegression()),\n",
    "    \"Ridge Regression\": make_pipeline(StandardScaler(), Ridge(alpha=1.0)),\n",
    "    \"Lasso Regression\": make_pipeline(StandardScaler(), Lasso(alpha=0.1)),\n",
    "    \"ElasticNet Regression\": make_pipeline(StandardScaler(), ElasticNet(alpha=0.1, l1_ratio=0.5))\n",
    "}\n",
    "\n",
    "# Fit each pipeline on the full data (X, y)\n",
    "for name, pipe in models.items():\n",
    "    pipe.fit(X, y.values.ravel())\n",
    "\n",
    "# Save all models to one pickle file\n",
    "with open(\"../models/all_regression_models.pkl\", \"wb\") as f:\n",
    "    pickle.dump(models, f)\n",
    "print(\"✅ All models (with scaler) saved to all_regression_models.pkl\")\n"
   ]
  }
 ],
 "metadata": {
  "kernelspec": {
   "display_name": "base",
   "language": "python",
   "name": "python3"
  },
  "language_info": {
   "codemirror_mode": {
    "name": "ipython",
    "version": 3
   },
   "file_extension": ".py",
   "mimetype": "text/x-python",
   "name": "python",
   "nbconvert_exporter": "python",
   "pygments_lexer": "ipython3",
   "version": "3.12.7"
  }
 },
 "nbformat": 4,
 "nbformat_minor": 5
}
